{
 "cells": [
  {
   "cell_type": "code",
   "execution_count": 31,
   "metadata": {},
   "outputs": [
    {
     "name": "stdout",
     "output_type": "stream",
     "text": [
      "Downloaded, unpacked, and processed file already found: Skipping.\n"
     ]
    }
   ],
   "source": [
    "import nevis\n",
    "import scipy\n",
    "import scipy.optimize\n",
    "import numpy as np\n",
    "import matplotlib.pyplot as plt\n",
    "import math\n",
    "import pandas as pd\n",
    "nevis.download_os_terrain_50()"
   ]
  },
  {
   "cell_type": "markdown",
   "metadata": {},
   "source": [
    "# Randomly selecting points\n",
    "\n",
    "Suppose we want the point to be within the circle centered at Ben Nevis with a radius R. If we randomly select points on the map in a uniform way, then the probability we hit this region is\n",
    "\n",
    "$$\n",
    "p = \\frac {\\pi R^2} {XY}.\n",
    "$$\n",
    "\n",
    "The probability of selecting N points, and none of them hitting the region is\n",
    "\n",
    "$$\n",
    "(1-p)^N.\n",
    "$$\n",
    "\n",
    "We want this probability to be less than $0.05$, and thus \n",
    "\n",
    "$$\n",
    "N \\ge \\log_{1-p}(0.05) = \\log_{1-\\frac {\\pi R^2} {XY}}(0.05).\n",
    "$$"
   ]
  },
  {
   "cell_type": "code",
   "execution_count": 3,
   "metadata": {},
   "outputs": [
    {
     "name": "stdout",
     "output_type": "stream",
     "text": [
      "Radius = 1000, needed eval num = 8.7E+05.\n",
      "Radius = 100, needed eval num = 8.7E+07.\n",
      "Radius = 10, needed eval num = 8.7E+09.\n"
     ]
    }
   ],
   "source": [
    "x_max, y_max = nevis.dimensions()\n",
    "\n",
    "def random_select_n(R):\n",
    "    return math.log(0.05, 1 - (R * R * math.pi) / (x_max * y_max))\n",
    "\n",
    "for R in [1000, 100, 10]:\n",
    "    print(\"Radius = {}, needed eval num = {:.1E}.\".format(R, random_select_n(R)))"
   ]
  },
  {
   "cell_type": "code",
   "execution_count": 26,
   "metadata": {},
   "outputs": [],
   "source": [
    "f = nevis.linear_interpolant()\n",
    "\n",
    "x_max, y_max = nevis.dimensions()\n",
    "def random_search(n):\n",
    "    print('number of evals: ', n)\n",
    "    \n",
    "    z = 0 \n",
    "    sx, sy = 0, 0\n",
    "    for _ in range(n):\n",
    "        x = np.random.uniform(0, x_max)\n",
    "        y = np.random.uniform(0, y_max)\n",
    "        w = f(x, y)\n",
    "        if w > z:\n",
    "            z = w\n",
    "            sx, sy = x, y\n",
    "\n",
    "    return (sx, sy), z"
   ]
  },
  {
   "cell_type": "code",
   "execution_count": 30,
   "metadata": {},
   "outputs": [
    {
     "name": "stdout",
     "output_type": "stream",
     "text": [
      "number of evals:  10000\n",
      "Good job!\n",
      "You landed at an altitude of 1142m.\n",
      "  https://opentopomap.org/#marker=15/57.096152/-3.672817\n",
      "You are 775m from the nearest named hill top, \"Cairn Lochan\",\n",
      "  ranked the 15th heighest in GB.\n",
      "\n",
      "number of evals:  50000\n",
      "Interesting!\n",
      "You landed at an altitude of 1104m.\n",
      "  https://opentopomap.org/#marker=15/57.085642/-3.687426\n",
      "You are 1.4km from the nearest named hill top, \"Sron na Lairige\",\n",
      "  ranked the 20th heighest in GB.\n",
      "\n",
      "number of evals:  100000\n",
      "Good job!\n",
      "You landed at an altitude of 1109m.\n",
      "  https://opentopomap.org/#marker=15/57.113722/-3.637046\n",
      "You are 561m from the nearest named hill top, \"Cairn Gorm\",\n",
      "  ranked the 9th heighest in GB.\n",
      "  http://hillsummits.org.uk/htm_summit/525.htm\n",
      "\n",
      "number of evals:  500000\n",
      "Good job!\n",
      "You landed at an altitude of 1257m.\n",
      "  https://opentopomap.org/#marker=15/56.795476/-5.00065\n",
      "You are 245m from the nearest named hill top, \"Ben Nevis\",\n",
      "  ranked the 1st heighest in GB.\n",
      "  http://hillsummits.org.uk/htm_summit/278.htm\n",
      "\n"
     ]
    }
   ],
   "source": [
    "df = []\n",
    "for n in [1e4, 5e4, 1e5, 5e5]:\n",
    "    (sx, sy), z = random_search(int(n))\n",
    "    nevis.print_result(sx, sy, z)\n",
    "    print()\n",
    "\n",
    "    df.append({\n",
    "        'evals': n,\n",
    "        'height': z,\n",
    "    })"
   ]
  },
  {
   "cell_type": "code",
   "execution_count": 32,
   "metadata": {},
   "outputs": [
    {
     "data": {
      "text/html": [
       "<div>\n",
       "<style scoped>\n",
       "    .dataframe tbody tr th:only-of-type {\n",
       "        vertical-align: middle;\n",
       "    }\n",
       "\n",
       "    .dataframe tbody tr th {\n",
       "        vertical-align: top;\n",
       "    }\n",
       "\n",
       "    .dataframe thead th {\n",
       "        text-align: right;\n",
       "    }\n",
       "</style>\n",
       "<table border=\"1\" class=\"dataframe\">\n",
       "  <thead>\n",
       "    <tr style=\"text-align: right;\">\n",
       "      <th></th>\n",
       "      <th>evals</th>\n",
       "      <th>height</th>\n",
       "    </tr>\n",
       "  </thead>\n",
       "  <tbody>\n",
       "    <tr>\n",
       "      <th>0</th>\n",
       "      <td>10000.0</td>\n",
       "      <td>1142.094242</td>\n",
       "    </tr>\n",
       "    <tr>\n",
       "      <th>1</th>\n",
       "      <td>50000.0</td>\n",
       "      <td>1103.966841</td>\n",
       "    </tr>\n",
       "    <tr>\n",
       "      <th>2</th>\n",
       "      <td>100000.0</td>\n",
       "      <td>1108.897912</td>\n",
       "    </tr>\n",
       "    <tr>\n",
       "      <th>3</th>\n",
       "      <td>500000.0</td>\n",
       "      <td>1257.038215</td>\n",
       "    </tr>\n",
       "  </tbody>\n",
       "</table>\n",
       "</div>"
      ],
      "text/plain": [
       "      evals       height\n",
       "0   10000.0  1142.094242\n",
       "1   50000.0  1103.966841\n",
       "2  100000.0  1108.897912\n",
       "3  500000.0  1257.038215"
      ]
     },
     "execution_count": 32,
     "metadata": {},
     "output_type": "execute_result"
    }
   ],
   "source": [
    "pd.DataFrame(df)"
   ]
  },
  {
   "cell_type": "markdown",
   "metadata": {},
   "source": [
    "\n",
    "## Selecting grid points\n",
    "\n",
    "Now we use grid points. Suppose squares formed using neighbouring grid points has a side length $x$. Consider the minimum possible $x$ such that a grid square can cover a circle with a radius $R$. We get\n",
    "\n",
    "$$\n",
    "x = \\sqrt 2 R.\n",
    "$$\n",
    "\n",
    "To make such grid points we need\n",
    "\n",
    "$$\n",
    "N \\ge \\frac {XY} {x^2} = \\frac {XY} {2 R^2}.\n",
    "$$\n",
    "\n"
   ]
  },
  {
   "cell_type": "code",
   "execution_count": 9,
   "metadata": {},
   "outputs": [
    {
     "name": "stdout",
     "output_type": "stream",
     "text": [
      "Radius = 1000, needed eval num = 4.6E+05.\n",
      "Radius = 500, needed eval num = 1.8E+06.\n",
      "Radius = 100, needed eval num = 4.6E+07.\n",
      "Radius = 10, needed eval num = 4.6E+09.\n"
     ]
    }
   ],
   "source": [
    "def grid_select_n(R):\n",
    "    return x_max * y_max / (R * R * 2)\n",
    "\n",
    "for R in [1000, 500, 100, 10]:\n",
    "    print(\"Radius = {}, needed eval num = {:.1E}.\".format(R, grid_select_n(R)))"
   ]
  },
  {
   "cell_type": "markdown",
   "metadata": {},
   "source": [
    "An experiment with grid searching:"
   ]
  },
  {
   "cell_type": "code",
   "execution_count": 34,
   "metadata": {},
   "outputs": [],
   "source": [
    "f = nevis.linear_interpolant()\n",
    "    \n",
    "\n",
    "x_max, y_max = nevis.dimensions()\n",
    "def grid_search(R):\n",
    "    x_ = R * (2 ** 0.5)\n",
    "    xs = np.linspace(0, x_max, math.ceil(x_max / x_))\n",
    "    ys = np.linspace(0, y_max, math.ceil(y_max / x_))\n",
    "\n",
    "    print('number of evals: ', len(xs) * len(ys))\n",
    "    \n",
    "    z = 0 \n",
    "    sx, sy = 0, 0\n",
    "    for x in xs:\n",
    "        for y in ys:\n",
    "            w = f(x, y)\n",
    "            if w > z:\n",
    "                z = w\n",
    "                sx, sy = x, y\n",
    "\n",
    "    return (sx, sy), z, len(xs) * len(ys)\n"
   ]
  },
  {
   "cell_type": "code",
   "execution_count": 36,
   "metadata": {},
   "outputs": [
    {
     "name": "stdout",
     "output_type": "stream",
     "text": [
      "5000\n",
      "number of evals:  18216\n",
      "Good job!\n",
      "You landed at an altitude of 1087m.\n",
      "  https://opentopomap.org/#marker=15/57.107529/-3.41673\n",
      "You are 587m from the nearest named hill top, \"Mullach Lochan nan Gabhar\",\n",
      "  ranked the 60th heighest in GB.\n",
      "1000\n",
      "number of evals:  455400\n",
      "Good job!\n",
      "You landed at an altitude of 1276m.\n",
      "  https://opentopomap.org/#marker=15/57.073048/-3.667768\n",
      "You are 308m from the nearest named hill top, \"Ben Macdui\",\n",
      "  ranked the 2d heighest in GB.\n",
      "  http://hillsummits.org.uk/htm_summit/518.htm\n",
      "500\n",
      "number of evals:  1820610\n",
      "Good job!\n",
      "You landed at an altitude of 1277m.\n",
      "  https://opentopomap.org/#marker=15/57.078537/-3.731386\n",
      "You are 184m from the nearest named hill top, \"Braeriach\",\n",
      "  ranked the 3d heighest in GB.\n"
     ]
    }
   ],
   "source": [
    "df = []\n",
    "for R in [5000, 1000, 500]:\n",
    "    print(R)\n",
    "    (sx, sy), z, n = grid_search(R)\n",
    "    nevis.print_result(sx, sy, z)\n",
    "\n",
    "    df.append({\n",
    "        'radius': R,\n",
    "        'evals': n,\n",
    "        'height': z,\n",
    "    })"
   ]
  },
  {
   "cell_type": "code",
   "execution_count": 37,
   "metadata": {},
   "outputs": [
    {
     "data": {
      "text/html": [
       "<div>\n",
       "<style scoped>\n",
       "    .dataframe tbody tr th:only-of-type {\n",
       "        vertical-align: middle;\n",
       "    }\n",
       "\n",
       "    .dataframe tbody tr th {\n",
       "        vertical-align: top;\n",
       "    }\n",
       "\n",
       "    .dataframe thead th {\n",
       "        text-align: right;\n",
       "    }\n",
       "</style>\n",
       "<table border=\"1\" class=\"dataframe\">\n",
       "  <thead>\n",
       "    <tr style=\"text-align: right;\">\n",
       "      <th></th>\n",
       "      <th>radius</th>\n",
       "      <th>evals</th>\n",
       "      <th>height</th>\n",
       "    </tr>\n",
       "  </thead>\n",
       "  <tbody>\n",
       "    <tr>\n",
       "      <th>0</th>\n",
       "      <td>5000</td>\n",
       "      <td>18216</td>\n",
       "      <td>1087.115622</td>\n",
       "    </tr>\n",
       "    <tr>\n",
       "      <th>1</th>\n",
       "      <td>1000</td>\n",
       "      <td>455400</td>\n",
       "      <td>1275.820270</td>\n",
       "    </tr>\n",
       "    <tr>\n",
       "      <th>2</th>\n",
       "      <td>500</td>\n",
       "      <td>1820610</td>\n",
       "      <td>1277.196058</td>\n",
       "    </tr>\n",
       "  </tbody>\n",
       "</table>\n",
       "</div>"
      ],
      "text/plain": [
       "   radius    evals       height\n",
       "0    5000    18216  1087.115622\n",
       "1    1000   455400  1275.820270\n",
       "2     500  1820610  1277.196058"
      ]
     },
     "execution_count": 37,
     "metadata": {},
     "output_type": "execute_result"
    }
   ],
   "source": [
    "pd.DataFrame(df)"
   ]
  },
  {
   "cell_type": "markdown",
   "metadata": {},
   "source": [
    "The number of evaluations grow too fast to actually try $R < 500$."
   ]
  },
  {
   "cell_type": "markdown",
   "metadata": {},
   "source": [
    "## Nelder-Mead with grid starting points"
   ]
  },
  {
   "cell_type": "code",
   "execution_count": 19,
   "metadata": {},
   "outputs": [],
   "source": [
    "points = []\n",
    "\n",
    "def wrapper(u):\n",
    "    x, y = u\n",
    "    points.append(u)\n",
    "    return -f(x, y)\n",
    "\n",
    "def nelder_mead_grid(s): \n",
    "    global points\n",
    "\n",
    "    # s is the side length of the grid\n",
    "    xs = np.linspace(0, x_max, math.ceil(x_max / s))\n",
    "    ys = np.linspace(0, y_max, math.ceil(y_max / s))\n",
    "\n",
    "    print('number of iterations: ', len(xs) * len(ys))\n",
    "\n",
    "    points = []\n",
    "\n",
    "    x_res, y_res, z_res = 0, 0, 0\n",
    "\n",
    "    for x in xs:\n",
    "        for y in ys:\n",
    "            result = scipy.optimize.minimize(\n",
    "                wrapper, \n",
    "                (x, y), \n",
    "                method='Nelder-Mead',\n",
    "                bounds=((0, x_max), (0, y_max))\n",
    "            )\n",
    "\n",
    "            if -result.fun > z_res:\n",
    "                x_res, y_res = result.x\n",
    "                z_res = -result.fun\n",
    "    \n",
    "    return x_res, y_res, z_res, points\n",
    "            \n",
    "            "
   ]
  },
  {
   "cell_type": "code",
   "execution_count": 38,
   "metadata": {},
   "outputs": [
    {
     "name": "stdout",
     "output_type": "stream",
     "text": [
      "1000000.0\n",
      "number of iterations:  2\n",
      "Good job!\n",
      "You landed at an altitude of 31m.\n",
      "  https://opentopomap.org/#marker=15/49.966447/-6.348534\n",
      "You are 319m from the nearest named hill top, \"King Charles's Castle (Tresco)\",\n",
      "  ranked the 20663d heighest in GB.\n",
      "  http://hillsummits.org.uk/htm_summit/17889.htm\n",
      "number of evals: 331\n",
      "\n",
      "500000.0\n",
      "number of iterations:  6\n",
      "Good job!\n",
      "You landed at an altitude of 372m.\n",
      "  https://opentopomap.org/#marker=15/55.573014/-5.569342\n",
      "You are 660m from the nearest named hill top, \"Beinn an Tuirc\",\n",
      "  ranked the 7324th heighest in GB.\n",
      "  http://hillsummits.org.uk/htm_summit/1410.htm\n",
      "number of evals: 1013\n",
      "\n",
      "100000.0\n",
      "number of iterations:  91\n",
      "Congratulations!\n",
      "You landed at an altitude of 1294m.\n",
      "  https://opentopomap.org/#marker=15/57.078398/-3.728443\n",
      "You are 10m from the nearest named hill top, \"Braeriach\",\n",
      "  ranked the 3d heighest in GB.\n",
      "number of evals: 16644\n",
      "\n",
      "50000.0\n",
      "number of iterations:  364\n",
      "Congratulations!\n",
      "You landed at an altitude of 1294m.\n",
      "  https://opentopomap.org/#marker=15/57.075655/-3.665625\n",
      "You are 40m from the nearest named hill top, \"Ben Macdui North Top\",\n",
      "  ranked the 4th heighest in GB.\n",
      "number of evals: 65274\n",
      "\n",
      "30000.0\n",
      "number of iterations:  1056\n",
      "Congratulations!\n",
      "You landed at an altitude of 1309m.\n",
      "  https://opentopomap.org/#marker=15/57.070213/-3.669488\n",
      "You are 30m from the nearest named hill top, \"Ben Macdui\",\n",
      "  ranked the 2d heighest in GB.\n",
      "  http://hillsummits.org.uk/htm_summit/518.htm\n",
      "number of evals: 194954\n",
      "\n"
     ]
    }
   ],
   "source": [
    "df = []\n",
    "for s in [1e6, 5e5, 1e5, 5e4, 3e4]:\n",
    "    print(s)\n",
    "    x, y, z, points = nelder_mead_grid(int(s))\n",
    "    nevis.print_result(x, y, z)\n",
    "    print('number of evals:', len(points))\n",
    "    print()\n",
    "\n",
    "    df.append({\n",
    "        'side length': s,\n",
    "        'evals': len(points),\n",
    "        'height': z,\n",
    "    })"
   ]
  },
  {
   "cell_type": "code",
   "execution_count": 39,
   "metadata": {},
   "outputs": [
    {
     "data": {
      "text/html": [
       "<div>\n",
       "<style scoped>\n",
       "    .dataframe tbody tr th:only-of-type {\n",
       "        vertical-align: middle;\n",
       "    }\n",
       "\n",
       "    .dataframe tbody tr th {\n",
       "        vertical-align: top;\n",
       "    }\n",
       "\n",
       "    .dataframe thead th {\n",
       "        text-align: right;\n",
       "    }\n",
       "</style>\n",
       "<table border=\"1\" class=\"dataframe\">\n",
       "  <thead>\n",
       "    <tr style=\"text-align: right;\">\n",
       "      <th></th>\n",
       "      <th>side length</th>\n",
       "      <th>evals</th>\n",
       "      <th>height</th>\n",
       "    </tr>\n",
       "  </thead>\n",
       "  <tbody>\n",
       "    <tr>\n",
       "      <th>0</th>\n",
       "      <td>1000000.0</td>\n",
       "      <td>331</td>\n",
       "      <td>30.782219</td>\n",
       "    </tr>\n",
       "    <tr>\n",
       "      <th>1</th>\n",
       "      <td>500000.0</td>\n",
       "      <td>1013</td>\n",
       "      <td>371.601916</td>\n",
       "    </tr>\n",
       "    <tr>\n",
       "      <th>2</th>\n",
       "      <td>100000.0</td>\n",
       "      <td>16644</td>\n",
       "      <td>1293.900015</td>\n",
       "    </tr>\n",
       "    <tr>\n",
       "      <th>3</th>\n",
       "      <td>50000.0</td>\n",
       "      <td>65274</td>\n",
       "      <td>1293.900023</td>\n",
       "    </tr>\n",
       "    <tr>\n",
       "      <th>4</th>\n",
       "      <td>30000.0</td>\n",
       "      <td>194954</td>\n",
       "      <td>1309.099975</td>\n",
       "    </tr>\n",
       "  </tbody>\n",
       "</table>\n",
       "</div>"
      ],
      "text/plain": [
       "   side length   evals       height\n",
       "0    1000000.0     331    30.782219\n",
       "1     500000.0    1013   371.601916\n",
       "2     100000.0   16644  1293.900015\n",
       "3      50000.0   65274  1293.900023\n",
       "4      30000.0  194954  1309.099975"
      ]
     },
     "execution_count": 39,
     "metadata": {},
     "output_type": "execute_result"
    }
   ],
   "source": [
    "pd.DataFrame(df)"
   ]
  }
 ],
 "metadata": {
  "kernelspec": {
   "display_name": "Python 3.10.5 ('venv': venv)",
   "language": "python",
   "name": "python3"
  },
  "language_info": {
   "codemirror_mode": {
    "name": "ipython",
    "version": 3
   },
   "file_extension": ".py",
   "mimetype": "text/x-python",
   "name": "python",
   "nbconvert_exporter": "python",
   "pygments_lexer": "ipython3",
   "version": "3.10.5"
  },
  "orig_nbformat": 4,
  "vscode": {
   "interpreter": {
    "hash": "a04f0b7e263dc4756d9dd9275d9de9bf40477f024045f1982596cfc3b81ec9fe"
   }
  }
 },
 "nbformat": 4,
 "nbformat_minor": 2
}
