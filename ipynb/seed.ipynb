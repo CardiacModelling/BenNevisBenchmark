{
 "cells": [
  {
   "cell_type": "code",
   "execution_count": 9,
   "metadata": {},
   "outputs": [
    {
     "name": "stdout",
     "output_type": "stream",
     "text": [
      "Optimal solution: [0.99999692 0.99999383]\n",
      "Optimal value: 9.497070737215688e-12\n"
     ]
    }
   ],
   "source": [
    "import numpy as np\n",
    "from scipy.optimize import dual_annealing\n",
    "\n",
    "# Define the Rosenbrock function\n",
    "def rosenbrock(x):\n",
    "    return sum(100.0 * (x[1:] - x[:-1]**2.0)**2.0 + (1 - x[:-1])**2.0)\n",
    "\n",
    "# Define the bounds for each parameter\n",
    "bounds = [(-5, 5), (-5, 5)]\n",
    "\n",
    "# Set the random seed\n",
    "random_seed = 43\n",
    "\n",
    "# Set the initial guess\n",
    "initial_guess = np.array([2.0, 2.0])\n",
    "\n",
    "# Perform global optimization using dual_annealing\n",
    "result = dual_annealing(rosenbrock, bounds, seed=random_seed, x0=initial_guess)\n",
    "\n",
    "print(\"Optimal solution:\", result.x)\n",
    "print(\"Optimal value:\", result.fun)"
   ]
  },
  {
   "cell_type": "code",
   "execution_count": null,
   "metadata": {},
   "outputs": [],
   "source": []
  }
 ],
 "metadata": {
  "kernelspec": {
   "display_name": "venv",
   "language": "python",
   "name": "python3"
  },
  "language_info": {
   "codemirror_mode": {
    "name": "ipython",
    "version": 3
   },
   "file_extension": ".py",
   "mimetype": "text/x-python",
   "name": "python",
   "nbconvert_exporter": "python",
   "pygments_lexer": "ipython3",
   "version": "3.9.2"
  },
  "orig_nbformat": 4
 },
 "nbformat": 4,
 "nbformat_minor": 2
}
