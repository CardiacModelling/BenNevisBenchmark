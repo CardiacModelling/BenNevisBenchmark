{
 "cells": [
  {
   "cell_type": "code",
   "execution_count": 12,
   "metadata": {},
   "outputs": [],
   "source": [
    "from algorithms import mlsl, dual_annealing, cmaes\n",
    "from framework import SaveHandler, MAX_INSTANCE_FES\n",
    "from pprint import pprint"
   ]
  },
  {
   "cell_type": "markdown",
   "metadata": {},
   "source": [
    "## MLSL\n",
    "### Information and performance measures for the best instance selected"
   ]
  },
  {
   "cell_type": "code",
   "execution_count": 13,
   "metadata": {},
   "outputs": [
    {
     "name": "stdout",
     "output_type": "stream",
     "text": [
      "{'algorithm_name': 'MLSL', 'algorithm_version': 1, 'instance_index': 960}\n",
      "{'population': 961}\n",
      "{'avg_height': 1316.6317561195845,\n",
      " 'avg_success_eval': 18587.967741935485,\n",
      " 'ert': 162136.35483870967,\n",
      " 'failure_rate': 0.7416666666666667,\n",
      " 'gary_ert': 8294.10396039604,\n",
      " 'hv': 8114.775000000001,\n",
      " 'par10': 375635.225,\n",
      " 'par2': 78968.55833333333,\n",
      " 'sp': 71953.4235171696,\n",
      " 'success_cnt': 31,\n",
      " 'success_rate': 0.25833333333333336,\n",
      " 'success_rate_length': 0.15491412151601924,\n",
      " 'success_rate_lower': 0.1883728380805067,\n",
      " 'success_rate_upper': 0.34328695959652594}\n",
      "121\n",
      "5027243\n"
     ]
    }
   ],
   "source": [
    "save_handler = SaveHandler('mlsl')\n",
    "algo = mlsl\n",
    "algo.load_best_instance(save_handler=save_handler)\n",
    "ins = algo.best_instance\n",
    "ins.run(save_handler=save_handler, restart=True, max_instance_fes=MAX_INSTANCE_FES * 5)\n",
    "pprint(ins.info)\n",
    "pprint(ins.params)\n",
    "pprint(ins.performance_measures(excluding_first=True))\n",
    "pprint(len(ins.results))\n",
    "pprint(sum([r.eval_num for r in ins.results]))"
   ]
  },
  {
   "cell_type": "markdown",
   "metadata": {},
   "source": [
    "### Convergence plot\n",
    "![convergence plot for mlsl](../img/mlsl/mlsl-convergence.png)\n",
    "### Stacked graph (copying last value after termination)\n",
    "![stacked graph for mlsl (copying last value after termination) ](../img/mlsl/mlsl-stacked-2.png)\n",
    "### Stacked graph (white after termination)\n",
    "![stacked graph for mlsl (white after termination)](../img/mlsl/mlsl-stacked-3.png)"
   ]
  },
  {
   "cell_type": "markdown",
   "metadata": {},
   "source": [
    "## Dual Annealing\n",
    "### Information and performance measures for the best instance selected"
   ]
  },
  {
   "cell_type": "code",
   "execution_count": 15,
   "metadata": {},
   "outputs": [
    {
     "name": "stdout",
     "output_type": "stream",
     "text": [
      "{'algorithm_name': 'Dual Annealing',\n",
      " 'algorithm_version': 3,\n",
      " 'instance_index': 225189433}\n",
      "{'accept': -3.33337,\n",
      " 'initial_temp': 79.77754246615842,\n",
      " 'restart_temp_ratio': 0.0033935664873233104,\n",
      " 'visit': 2.8292929292929294}\n",
      "{'avg_height': 1312.102352338263,\n",
      " 'avg_success_eval': 24189.08,\n",
      " 'ert': 200189.07999999996,\n",
      " 'failure_rate': 0.7787610619469026,\n",
      " 'gary_ert': 10213.728571428572,\n",
      " 'hv': 5710.380530973452,\n",
      " 'par10': 394732.09734513273,\n",
      " 'par2': 83227.67256637168,\n",
      " 'sp': 109334.6416,\n",
      " 'success_cnt': 25,\n",
      " 'success_rate': 0.22123893805309736,\n",
      " 'success_rate_length': 0.15164100696078606,\n",
      " 'success_rate_lower': 0.1545837361055079,\n",
      " 'success_rate_upper': 0.30622474306629394}\n",
      "114\n",
      "5004766\n"
     ]
    }
   ],
   "source": [
    "save_handler = SaveHandler('dual-annealing-2')\n",
    "algo = dual_annealing\n",
    "algo.load_best_instance(save_handler=save_handler)\n",
    "ins = algo.best_instance\n",
    "ins.run(save_handler=save_handler, restart=True, max_instance_fes=MAX_INSTANCE_FES * 5)\n",
    "pprint(ins.info)\n",
    "pprint(ins.params)\n",
    "pprint(ins.performance_measures(excluding_first=True))\n",
    "pprint(len(ins.results))\n",
    "pprint(sum([r.eval_num for r in ins.results]))"
   ]
  },
  {
   "cell_type": "markdown",
   "metadata": {},
   "source": [
    "### Convergence plot\n",
    "![convergence plot for da](../img/da/dual-annealing-convergence.png)\n",
    "### Stacked graph (copying last value after termination)\n",
    "![stacked graph for da (copying last value after termination) ](../img/da/dual-annealing-stacked-2.png)\n",
    "### Stacked graph (white after termination)\n",
    "![stacked graph for da (white after termination)](../img/da/dual-annealing-stacked-3.png)"
   ]
  },
  {
   "cell_type": "markdown",
   "metadata": {},
   "source": [
    "## CMAES\n",
    "### Information and performance measures for the best instance selected"
   ]
  },
  {
   "cell_type": "code",
   "execution_count": 17,
   "metadata": {},
   "outputs": [
    {
     "name": "stdout",
     "output_type": "stream",
     "text": [
      "{'algorithm_name': 'CMAES', 'algorithm_version': 1, 'instance_index': 64}\n",
      "{'population_size': 7, 'sigma0_n': 9}\n",
      "{'avg_height': 889.2217245601929,\n",
      " 'avg_success_eval': 428.6666666666667,\n",
      " 'ert': 1666498.666666667,\n",
      " 'failure_rate': 0.9993772057297073,\n",
      " 'gary_ert': 2984.7737313432835,\n",
      " 'hv': 30.87274237077019,\n",
      " 'par10': 499688.8698359975,\n",
      " 'par2': 99937.9875441146,\n",
      " 'sp': 688295.7777777778,\n",
      " 'success_cnt': 3,\n",
      " 'success_rate': 0.0006227942702927133,\n",
      " 'success_rate_length': 0.0016178202387263228,\n",
      " 'success_rate_lower': 0.00021182451751020114,\n",
      " 'success_rate_upper': 0.001829644756236524}\n",
      "4818\n",
      "5000301\n"
     ]
    }
   ],
   "source": [
    "save_handler = SaveHandler('cmaes-1')\n",
    "algo = cmaes\n",
    "algo.load_best_instance(save_handler=save_handler)\n",
    "ins = algo.best_instance\n",
    "ins.run(save_handler=save_handler, restart=True, max_instance_fes=MAX_INSTANCE_FES * 5)\n",
    "pprint(ins.info)\n",
    "pprint(ins.params)\n",
    "pprint(ins.performance_measures(excluding_first=True))\n",
    "pprint(len(ins.results))\n",
    "pprint(sum([r.eval_num for r in ins.results]))"
   ]
  },
  {
   "cell_type": "markdown",
   "metadata": {},
   "source": [
    "### Convergence plot\n",
    "![convergence plot for cmaes](../img/cmaes/CMAES-convergence.png)\n",
    "### Stacked graph (copying last value after termination)\n",
    "![stacked graph for cmaes (copying last value after termination) ](../img/cmaes/CMAES-stacked-2.png)\n",
    "### Stacked graph (white after termination)\n",
    "![stacked graph for cmaes (white after termination)](../img/cmaes/CMAES-stacked-3.png)"
   ]
  }
 ],
 "metadata": {
  "kernelspec": {
   "display_name": "venv",
   "language": "python",
   "name": "python3"
  },
  "language_info": {
   "codemirror_mode": {
    "name": "ipython",
    "version": 3
   },
   "file_extension": ".py",
   "mimetype": "text/x-python",
   "name": "python",
   "nbconvert_exporter": "python",
   "pygments_lexer": "ipython3",
   "version": "3.10.12"
  },
  "orig_nbformat": 4
 },
 "nbformat": 4,
 "nbformat_minor": 2
}
