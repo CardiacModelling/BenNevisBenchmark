{
 "cells": [
  {
   "cell_type": "markdown",
   "metadata": {},
   "source": [
    "This script is for running the best instance of each algorithm (already selected by the hyper-parameter tuning process) and saving the result. "
   ]
  },
  {
   "cell_type": "code",
   "execution_count": 1,
   "metadata": {},
   "outputs": [],
   "source": [
    "import sys\n",
    "sys.path.insert(0, \"../../src/\")\n",
    "from framework import *\n",
    "from algorithms import pso, differential_evolution, dual_annealing, mlsl, cmaes, nelder_mead_multi\n",
    "import optuna\n",
    "\n",
    "save_handler = SaveHandlerJSON('../../result/june/')\n",
    "\n",
    "result_db_path = '../../result/june.db'\n"
   ]
  },
  {
   "cell_type": "code",
   "execution_count": 2,
   "metadata": {},
   "outputs": [
    {
     "name": "stdout",
     "output_type": "stream",
     "text": [
      "PSO\n"
     ]
    },
    {
     "name": "stderr",
     "output_type": "stream",
     "text": [
      "1027570it [01:00, 16944.11it/s]                            \n"
     ]
    },
    {
     "name": "stdout",
     "output_type": "stream",
     "text": [
      "Differential Evolution\n"
     ]
    },
    {
     "name": "stderr",
     "output_type": "stream",
     "text": [
      "1006185it [01:55, 8725.52it/s]                             \n"
     ]
    },
    {
     "name": "stdout",
     "output_type": "stream",
     "text": [
      "Dual Annealing\n"
     ]
    },
    {
     "name": "stderr",
     "output_type": "stream",
     "text": [
      "1036920it [01:01, 16767.33it/s]                            \n"
     ]
    },
    {
     "name": "stdout",
     "output_type": "stream",
     "text": [
      "MLSL\n"
     ]
    },
    {
     "name": "stderr",
     "output_type": "stream",
     "text": [
      "1021573it [03:44, 4549.65it/s]                            \n"
     ]
    },
    {
     "name": "stdout",
     "output_type": "stream",
     "text": [
      "CMA-ES\n"
     ]
    },
    {
     "name": "stderr",
     "output_type": "stream",
     "text": [
      "1009228it [02:31, 6669.64it/s]                            \n"
     ]
    }
   ],
   "source": [
    "for algo in [pso, differential_evolution, dual_annealing, mlsl, cmaes]:\n",
    "    print(algo.name)\n",
    "    algo.load_best_instance(result_db_path)\n",
    "    ins = algo.best_instance\n",
    "    ins.run(\n",
    "            save_handler=save_handler,\n",
    "            save_partial=False,\n",
    "            restart=True,\n",
    "            does_prune=False,\n",
    "        )"
   ]
  },
  {
   "cell_type": "code",
   "execution_count": 3,
   "metadata": {},
   "outputs": [
    {
     "name": "stderr",
     "output_type": "stream",
     "text": [
      "1036927it [00:31, 33416.94it/s]                            \n"
     ]
    }
   ],
   "source": [
    "ins = AlgorithmInstance(algorithm=nelder_mead_multi, trial=optuna.trial.FixedTrial({}), instance_index=-1)\n",
    "ins.run(\n",
    "            save_handler=save_handler,\n",
    "            save_partial=False,\n",
    "            restart=True,\n",
    "            does_prune=False,\n",
    "        )"
   ]
  }
 ],
 "metadata": {
  "kernelspec": {
   "display_name": "venv",
   "language": "python",
   "name": "python3"
  },
  "language_info": {
   "codemirror_mode": {
    "name": "ipython",
    "version": 3
   },
   "file_extension": ".py",
   "mimetype": "text/x-python",
   "name": "python",
   "nbconvert_exporter": "python",
   "pygments_lexer": "ipython3",
   "version": "3.10.12"
  }
 },
 "nbformat": 4,
 "nbformat_minor": 2
}
