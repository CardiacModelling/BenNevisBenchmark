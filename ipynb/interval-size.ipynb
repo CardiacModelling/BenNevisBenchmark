{
 "cells": [
  {
   "cell_type": "markdown",
   "metadata": {},
   "source": [
    "We are trying to calculate the number of grid points that fall in each interval in this notebook."
   ]
  },
  {
   "cell_type": "code",
   "execution_count": 1,
   "metadata": {},
   "outputs": [
    {
     "data": {
      "text/plain": [
       "364000000"
      ]
     },
     "execution_count": 1,
     "metadata": {},
     "output_type": "execute_result"
    }
   ],
   "source": [
    "import nevis\n",
    "data = nevis.gb()\n",
    "data.size"
   ]
  },
  {
   "cell_type": "code",
   "execution_count": 2,
   "metadata": {},
   "outputs": [
    {
     "data": {
      "text/plain": [
       "(26000, 14000)"
      ]
     },
     "execution_count": 2,
     "metadata": {},
     "output_type": "execute_result"
    }
   ],
   "source": [
    "data.shape"
   ]
  },
  {
   "cell_type": "code",
   "execution_count": 3,
   "metadata": {},
   "outputs": [],
   "source": [
    "intervals = [\n",
    "    (1340, 1345),\n",
    "    (1310, 1340),\n",
    "    (1297, 1310),\n",
    "    (1235, 1297),\n",
    "    (1215, 1235),\n",
    "    (1150, 1215),\n",
    "    (1100, 1150),\n",
    "    (1000, 1100),\n",
    "    (600, 1000),\n",
    "    (0, 600),\n",
    "    (-100, 0)\n",
    "]"
   ]
  },
  {
   "cell_type": "code",
   "execution_count": 4,
   "metadata": {},
   "outputs": [],
   "source": [
    "def to_latex(float_number):\n",
    "    import math\n",
    "    # Extracting the exponent part\n",
    "    exponent = int(math.floor(math.log10(abs(float_number))))\n",
    "\n",
    "    # Extracting the mantissa part\n",
    "    mantissa = float_number / (10 ** exponent)\n",
    "\n",
    "    # Formatting the float number in the LaTeX style format\n",
    "    latex_formatted_number = \"${:.2f} \\\\times 10^{{{}}}$\".format(mantissa, exponent)\n",
    "    return latex_formatted_number"
   ]
  },
  {
   "cell_type": "code",
   "execution_count": 5,
   "metadata": {},
   "outputs": [
    {
     "name": "stdout",
     "output_type": "stream",
     "text": [
      "1340 1345 5 $1.37 \\times 10^{-8}$\n",
      "1310 1340 38 $1.04 \\times 10^{-7}$\n",
      "1297 1310 40 $1.10 \\times 10^{-7}$\n",
      "1235 1297 869 $2.39 \\times 10^{-6}$\n",
      "1215 1235 798 $2.19 \\times 10^{-6}$\n",
      "1150 1215 4127 $1.13 \\times 10^{-5}$\n",
      "1100 1150 7187 $1.97 \\times 10^{-5}$\n",
      "1000 1100 32839 $9.02 \\times 10^{-5}$\n",
      "600 1000 2140314 $5.88 \\times 10^{-3}$\n",
      "0 600 89854449 $2.47 \\times 10^{-1}$\n",
      "-100 0 271959333 $7.47 \\times 10^{-1}$\n"
     ]
    }
   ],
   "source": [
    "import numpy as np\n",
    "s = 0\n",
    "for x, y in intervals:\n",
    "    cnt = np.sum(((data >= x) & (data < y)))\n",
    "    print(x, y, cnt, to_latex(cnt / data.size))\n",
    "    s += cnt / data.size"
   ]
  },
  {
   "cell_type": "code",
   "execution_count": 6,
   "metadata": {},
   "outputs": [
    {
     "data": {
      "text/plain": [
       "np.float64(0.9999999972527474)"
      ]
     },
     "execution_count": 6,
     "metadata": {},
     "output_type": "execute_result"
    }
   ],
   "source": [
    "# make sure that we have counted all of the map\n",
    "s"
   ]
  },
  {
   "cell_type": "markdown",
   "metadata": {},
   "source": [
    "The proportion of grid points that are below sea level is:"
   ]
  },
  {
   "cell_type": "code",
   "execution_count": 7,
   "metadata": {},
   "outputs": [
    {
     "data": {
      "text/plain": [
       "np.float64(0.7471410247252748)"
      ]
     },
     "execution_count": 7,
     "metadata": {},
     "output_type": "execute_result"
    }
   ],
   "source": [
    "np.sum(((data < 0))) / data.size "
   ]
  },
  {
   "cell_type": "markdown",
   "metadata": {},
   "source": [
    "The lowest point of the sea is:"
   ]
  },
  {
   "cell_type": "code",
   "execution_count": 8,
   "metadata": {},
   "outputs": [
    {
     "data": {
      "text/plain": [
       "np.float32(-99.7)"
      ]
     },
     "execution_count": 8,
     "metadata": {},
     "output_type": "execute_result"
    }
   ],
   "source": [
    "np.min(data)"
   ]
  }
 ],
 "metadata": {
  "kernelspec": {
   "display_name": "venv",
   "language": "python",
   "name": "python3"
  },
  "language_info": {
   "codemirror_mode": {
    "name": "ipython",
    "version": 3
   },
   "file_extension": ".py",
   "mimetype": "text/x-python",
   "name": "python",
   "nbconvert_exporter": "python",
   "pygments_lexer": "ipython3",
   "version": "3.10.12"
  }
 },
 "nbformat": 4,
 "nbformat_minor": 2
}
