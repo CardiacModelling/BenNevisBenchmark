{
 "cells": [
  {
   "cell_type": "markdown",
   "metadata": {},
   "source": [
    "We want to check if the calculated data do make sense."
   ]
  },
  {
   "cell_type": "code",
   "execution_count": 1,
   "metadata": {},
   "outputs": [],
   "source": [
    "import numpy as np \n",
    "import nevis \n",
    "\n",
    "h = nevis.gb()\n",
    "area = np.load('../res/area-with-sea.npy')\n",
    "label = np.load('../res/label.npy')\n",
    "maxima = np.load('../res/maxima.npy')\n",
    "path_sum = np.load('../res/path_sum.npy')\n",
    "sn = np.load('../res/sn.npy')"
   ]
  },
  {
   "cell_type": "markdown",
   "metadata": {},
   "source": [
    "Check that all local maxima has steepest neighbour -1 and vice versa:"
   ]
  },
  {
   "cell_type": "code",
   "execution_count": 2,
   "metadata": {},
   "outputs": [
    {
     "name": "stdout",
     "output_type": "stream",
     "text": [
      "957174\n"
     ]
    }
   ],
   "source": [
    "print(len(maxima))\n",
    "assert (np.sum(sn == -1) == len(maxima)) and (len(maxima) == np.sum((sn < 0) | (sn >= 9)))"
   ]
  },
  {
   "cell_type": "code",
   "execution_count": 3,
   "metadata": {},
   "outputs": [],
   "source": [
    "for x, y in maxima:\n",
    "    assert sn[x][y] == -1"
   ]
  },
  {
   "cell_type": "markdown",
   "metadata": {},
   "source": [
    "Check that all points have been labelled as its b.o.a.:"
   ]
  },
  {
   "cell_type": "code",
   "execution_count": 4,
   "metadata": {},
   "outputs": [
    {
     "data": {
      "text/plain": [
       "np.int64(0)"
      ]
     },
     "execution_count": 4,
     "metadata": {},
     "output_type": "execute_result"
    }
   ],
   "source": [
    "np.sum((label < 0) | (label >= len(maxima)))"
   ]
  },
  {
   "cell_type": "code",
   "execution_count": 5,
   "metadata": {},
   "outputs": [],
   "source": [
    "for i, (x, y) in enumerate(maxima):\n",
    "    assert label[x][y] == i"
   ]
  },
  {
   "cell_type": "markdown",
   "metadata": {},
   "source": [
    "Check that the sum of area of all b.o.a. is the number of all grid points:"
   ]
  },
  {
   "cell_type": "code",
   "execution_count": 6,
   "metadata": {},
   "outputs": [],
   "source": [
    "assert 364000000 == np.sum(area) "
   ]
  },
  {
   "cell_type": "markdown",
   "metadata": {},
   "source": [
    "Now we start from some random points and see if the lablled b.o.a. is correct:"
   ]
  },
  {
   "cell_type": "code",
   "execution_count": 7,
   "metadata": {},
   "outputs": [],
   "source": [
    "neighbours = [\n",
    "    [1, 0], \n",
    "    [1, 1],\n",
    "    [0, 1],\n",
    "    [-1, 1], \n",
    "    [-1, 0], \n",
    "    [-1, -1],\n",
    "    [0, -1], \n",
    "    [1, -1], \n",
    "]\n",
    "\n",
    "# start from an initial point and find its local maxima by following the\n",
    "# steepest neighbour at each step \n",
    "def find_max(x, y):\n",
    "    z = h[x][y]\n",
    "    while sn[x][y] != -1:\n",
    "        dx, dy = neighbours[sn[x][y]]\n",
    "        x += dx\n",
    "        y += dy\n",
    "        assert h[x][y] >= z\n",
    "        z = h[x][y]\n",
    "    return x, y\n",
    "    "
   ]
  },
  {
   "cell_type": "code",
   "execution_count": 8,
   "metadata": {},
   "outputs": [
    {
     "ename": "",
     "evalue": "",
     "output_type": "error",
     "traceback": [
      "\u001b[1;31mThe Kernel crashed while executing code in the current cell or a previous cell. \n",
      "\u001b[1;31mPlease review the code in the cell(s) to identify a possible cause of the failure. \n",
      "\u001b[1;31mClick <a href='https://aka.ms/vscodeJupyterKernelCrash'>here</a> for more info. \n",
      "\u001b[1;31mView Jupyter <a href='command:jupyter.viewOutput'>log</a> for further details."
     ]
    }
   ],
   "source": [
    "import random\n",
    "m, n = h.shape\n",
    "\n",
    "for _ in range(10000):\n",
    "    x0, y0 = random.randint(0, m - 1), random.randint(0, n - 1)\n",
    "    x, y = find_max(x0, y0)\n",
    "    assert tuple(maxima[label[x0][y0]]) == (x, y)"
   ]
  }
 ],
 "metadata": {
  "kernelspec": {
   "display_name": "venv",
   "language": "python",
   "name": "python3"
  },
  "language_info": {
   "codemirror_mode": {
    "name": "ipython",
    "version": 3
   },
   "file_extension": ".py",
   "mimetype": "text/x-python",
   "name": "python",
   "nbconvert_exporter": "python",
   "pygments_lexer": "ipython3",
   "version": "3.10.12"
  }
 },
 "nbformat": 4,
 "nbformat_minor": 2
}
