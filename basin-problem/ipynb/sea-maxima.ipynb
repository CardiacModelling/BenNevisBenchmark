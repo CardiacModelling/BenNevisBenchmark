{
 "cells": [
  {
   "cell_type": "code",
   "execution_count": 1,
   "metadata": {},
   "outputs": [],
   "source": [
    "import numpy as np \n",
    "import nevis \n",
    "\n",
    "h = nevis.gb()\n",
    "\n",
    "area = np.load('../res/area-with-sea.npy')\n",
    "label = np.load('../res/label.npy')\n",
    "maxima = np.load('../res/maxima.npy')\n",
    "path_sum = np.load('../res/path_sum.npy')\n",
    "\n",
    "expected_fe = path_sum / area"
   ]
  },
  {
   "cell_type": "markdown",
   "metadata": {},
   "source": [
    "- `maxima` = [($x_0, y_0$), ... ], where $(x_i, y_i)$ is the grid coordinate of the $i$-th hill, sorted from the highest to the lowest. The length of maxima is the number of hills = number of basin of attraction.\n",
    "- `label[x][y]` means grid coordinate $(x, y)$ belongs to the $i$-th basin of attraction (which belongs to the $i$-th hill).\n",
    "- `area[i]` returns the area of the $i$-th basin of attraction (including sea).\n",
    "- `path_sum[i]` returns the sum of (gradient ascending) path lengths from each point to the $i$-th local max in the $i$-th b.o.a. \n",
    "- `path_sum[i] / area[i]` is the average path length (function evaluation) from each point in the $i$-th b.o.a to the $i$-th local max."
   ]
  },
  {
   "cell_type": "code",
   "execution_count": 2,
   "metadata": {},
   "outputs": [],
   "source": [
    "# check that the sum of areas add up\n",
    "m, n = nevis.dimensions()\n",
    "assert int(np.sum(area)) == m * n // 2500"
   ]
  },
  {
   "cell_type": "code",
   "execution_count": 3,
   "metadata": {},
   "outputs": [],
   "source": [
    "# check that the i-th local max belongs to the i-th b.o.a.\n",
    "len_maxima = len(maxima)\n",
    "for i in range(len_maxima):\n",
    "    assert i == label[maxima[i, 0], maxima[i, 1]]"
   ]
  },
  {
   "cell_type": "code",
   "execution_count": 4,
   "metadata": {},
   "outputs": [
    {
     "data": {
      "text/plain": [
       "array([[1343.1, 1342.1, 1340.9],\n",
       "       [1339.6, 1345.3, 1343.8],\n",
       "       [1222.5, 1299.1, 1327.7]], dtype=float32)"
      ]
     },
     "execution_count": 4,
     "metadata": {},
     "output_type": "execute_result"
    }
   ],
   "source": [
    "# a two-line tour to ben nevis\n",
    "x, y = maxima[0]\n",
    "h[x-1:x+2, y-1:y+2]"
   ]
  },
  {
   "cell_type": "markdown",
   "metadata": {},
   "source": [
    "### Why are there local maxima below sea level?"
   ]
  },
  {
   "cell_type": "code",
   "execution_count": 5,
   "metadata": {},
   "outputs": [],
   "source": [
    "sea_max_height_list = []\n",
    "# iterate through all local max and find those under sea levels\n",
    "for i in range(len_maxima):\n",
    "    x, y = maxima[i]\n",
    "    z = h[x, y]\n",
    "    if z < 0:\n",
    "        sea_max_height_list.append((x, y, z))"
   ]
  },
  {
   "cell_type": "code",
   "execution_count": 6,
   "metadata": {},
   "outputs": [
    {
     "data": {
      "text/plain": [
       "6631"
      ]
     },
     "execution_count": 6,
     "metadata": {},
     "output_type": "execute_result"
    }
   ],
   "source": [
    "# the total number of such local max\n",
    "len(sea_max_height_list)"
   ]
  },
  {
   "cell_type": "code",
   "execution_count": 7,
   "metadata": {},
   "outputs": [
    {
     "data": {
      "text/plain": [
       "(array([4.000e+00, 0.000e+00, 1.000e+00, 2.000e+00, 7.000e+00, 6.000e+00,\n",
       "        2.000e+00, 1.000e+00, 7.400e+01, 6.534e+03]),\n",
       " array([-20.80000305, -18.73000336, -16.66000175, -14.59000206,\n",
       "        -12.52000141, -10.45000076,  -8.38000011,  -6.30999994,\n",
       "         -4.23999929,  -2.16999888,  -0.09999847]),\n",
       " <BarContainer object of 10 artists>)"
      ]
     },
     "execution_count": 7,
     "metadata": {},
     "output_type": "execute_result"
    },
    {
     "data": {
      "image/png": "[encoded data removed]",
      "text/plain": [
       "<Figure size 640x480 with 1 Axes>"
      ]
     },
     "metadata": {},
     "output_type": "display_data"
    }
   ],
   "source": [
    "# the distribution of height of such local max\n",
    "zs = [p[2] for p in sea_max_height_list]\n",
    "import matplotlib.pyplot as plt\n",
    "plt.hist(zs, log=True)"
   ]
  },
  {
   "cell_type": "code",
   "execution_count": 8,
   "metadata": {},
   "outputs": [
    {
     "name": "stdout",
     "output_type": "stream",
     "text": [
      "[-0.1, 0) 1\n",
      "[-0.2, -0.1) 800\n",
      "[-1, -0.2) 3972\n",
      "[-2, -1) 1722\n",
      "[-5, -2) 114\n",
      "[-10, -5) 7\n",
      "[-30, -10) 15\n"
     ]
    }
   ],
   "source": [
    "# some numerical results\n",
    "intervals = [(-0.1, 0), (-0.2, -0.1), (-1, -0.2), (-2, -1), (-5, -2), (-10, -5), (-30, -10)]\n",
    "for i, j in intervals:\n",
    "    print(\n",
    "        f'[{i}, {j})',\n",
    "        len(list(filter(lambda x: i <= x < j, zs)))\n",
    "    )"
   ]
  },
  {
   "cell_type": "code",
   "execution_count": 9,
   "metadata": {},
   "outputs": [
    {
     "name": "stdout",
     "output_type": "stream",
     "text": [
      "x, y, z = 6302, 9120, -20.099998474121094\n",
      "[[ 14.4        -2.1       -57.2       -81.2        -6.9000015]\n",
      " [  3.2       -42.9       -91.3       -21.300003  -48.600006 ]\n",
      " [  1.        -85.9       -20.099998  -49.100006  -49.800003 ]\n",
      " [  1.9       -88.        -34.600006  -49.100006  -49.199997 ]\n",
      " [ 16.        -82.5       -20.800003  -48.699997  -49.399994 ]]\n",
      "x, y, z = 5957, 10491, -10.199999809265137\n",
      "[[-12.8 -12.9 -12.8 -12.9 -14.5]\n",
      " [-12.6 -12.7 -13.2 -13.8 -14.4]\n",
      " [-10.  -10.9 -10.2 -10.3 -12.5]\n",
      " [-15.8 -16.1 -15.8 -16.4 -15.9]\n",
      " [-16.4 -16.1 -16.  -16.3 -16.4]]\n",
      "x, y, z = 5929, 9025, -6.6999969482421875\n",
      "[[-31.199997 -11.599998 -80.9      -32.7       38.7     ]\n",
      " [-22.800003 -33.399994 -97.5      -58.4        1.9     ]\n",
      " [-95.8      -33.600006  -6.699997 -76.       -23.5     ]\n",
      " [-73.       -30.699997 -25.5      -91.3      -42.2     ]\n",
      " [-43.1       -9.900002 -33.899994 -91.1      -64.9     ]]\n",
      "x, y, z = 5607, 11196, -2.0999999046325684\n",
      "[[-2.2 -2.1 -2.1 -2.2 -2.2]\n",
      " [-2.2 -2.1 -2.1 -2.2 -2.2]\n",
      " [-2.2 -2.1 -2.1 -2.2 -2.2]\n",
      " [-2.1 -2.1 -2.3 -2.3 -2.3]\n",
      " [-2.2 -2.2 -2.3 -2.3 -2.2]]\n",
      "x, y, z = 5537, 11254, -1.100000023841858\n",
      "[[-2.  -1.4 -1.5 -1.4 -1.4]\n",
      " [-1.6 -1.9 -1.3 -1.5 -1.5]\n",
      " [-1.5 -1.5 -1.1 -1.8 -1.4]\n",
      " [-1.2 -1.5 -1.7 -1.5 -1.4]\n",
      " [-1.3 -1.5 -1.4 -1.2 -1.1]]\n",
      "x, y, z = 2775, 6931, -0.20000000298023224\n",
      "[[-0.8 -0.8 -0.8  0.1  0. ]\n",
      " [-0.8 -0.8 -0.6 -0.6 -0.9]\n",
      " [-0.7 -0.8 -0.2 -1.  -1. ]\n",
      " [ 1.2 -0.5 -1.  -1.  -1. ]\n",
      " [ 1.2  1.1 -1.  -1.  -1. ]]\n",
      "x, y, z = 3074, 12683, -0.10000000149011612\n",
      "[[ 0.4 -1.7 -0.3 -0.3 -1. ]\n",
      " [-0.4 -2.2 -0.4 -0.3  0. ]\n",
      " [-0.4 -0.5 -0.1 -0.2  1. ]\n",
      " [-0.5 -0.3 -0.2 -1.9  2.5]\n",
      " [-0.4 -0.3  0.   0.9  3.3]]\n"
     ]
    }
   ],
   "source": [
    "# print the surrounding of some samples\n",
    "for i in [-30, -20, -10, -5, -2, -1, -0.2, -0.1]:\n",
    "    for x, y, z in sea_max_height_list:\n",
    "        if z < i:\n",
    "            print(f\"x, y, z = {x}, {y}, {z}\")\n",
    "            print(h[x-2:x+3, y-2:y+3])\n",
    "            break"
   ]
  },
  {
   "cell_type": "markdown",
   "metadata": {},
   "source": [
    "1. Some of these points are classified as a local maximum because they have the same height as all of their neighbours (let's call them **flat local maxima** for now). \n",
    "2. But there are also points which are clearly higher than its neighbours.\n",
    "\n",
    "Discussion. Is this classification in (1) justifiable? If a point has the same height as all of its neighbours, then the gradient ascending method indeed should converge to it, but this point is not a 'hill' in the usual sense (even if it's not underwater). On the other hand, does this happen very frequently on the land where the heights tend to vary?\n",
    "\n",
    "What can we do? Can we change this classficiation (1)? We could report the number of such points among the local maxima.\n",
    "\n",
    "Why does (2) happen? **I don't know**."
   ]
  },
  {
   "cell_type": "markdown",
   "metadata": {},
   "source": [
    "### Are there a lot of 'flat local maxima'?"
   ]
  },
  {
   "cell_type": "markdown",
   "metadata": {},
   "source": [
    "**UPDATE**: as we adopted the new algorithm for calculating local maxima, we have eliminated all 'flat local maxima'. "
   ]
  },
  {
   "cell_type": "code",
   "execution_count": 10,
   "metadata": {},
   "outputs": [],
   "source": [
    "neighbours = [\n",
    "    (-1, 0), (1, 0), (0, -1), (0, 1),\n",
    "    (-1, -1), (-1, 1), (1, 1), (1, -1),\n",
    "]\n",
    "eps = 1e-5\n",
    "m, n = h.shape\n",
    "flat_local_max = []\n",
    "for i in range(len_maxima):\n",
    "    x, y = maxima[i]\n",
    "    flat = True\n",
    "    for dx, dy in neighbours:\n",
    "        sx, sy = x + dx, y + dy\n",
    "        if not (0 <= sx < m and 0 <= sy < n):\n",
    "            continue\n",
    "        if abs(h[sx, sy] - h[x, y]) > eps:\n",
    "            flat = False\n",
    "            break\n",
    "    if flat: \n",
    "        flat_local_max.append((x, y, h[x, y]))"
   ]
  },
  {
   "cell_type": "code",
   "execution_count": 11,
   "metadata": {},
   "outputs": [
    {
     "data": {
      "text/plain": [
       "0"
      ]
     },
     "execution_count": 11,
     "metadata": {},
     "output_type": "execute_result"
    }
   ],
   "source": [
    "len(flat_local_max)"
   ]
  },
  {
   "cell_type": "markdown",
   "metadata": {},
   "source": [
    "OK actually there are quite a few of those flat local maxima! What about their distrubtion in heights?"
   ]
  },
  {
   "cell_type": "code",
   "execution_count": 12,
   "metadata": {},
   "outputs": [
    {
     "data": {
      "text/plain": [
       "(array([0., 0., 0., 0., 0., 0., 0., 0., 0., 0.]),\n",
       " array([0. , 0.1, 0.2, 0.3, 0.4, 0.5, 0.6, 0.7, 0.8, 0.9, 1. ]),\n",
       " <BarContainer object of 10 artists>)"
      ]
     },
     "execution_count": 12,
     "metadata": {},
     "output_type": "execute_result"
    },
    {
     "name": "stderr",
     "output_type": "stream",
     "text": [
      "/home/eric/projects/EricSummer2022/venv/lib/python3.10/site-packages/IPython/core/events.py:93: UserWarning: Data has no positive values, and therefore cannot be log-scaled.\n",
      "  func(*args, **kwargs)\n"
     ]
    },
    {
     "data": {
      "image/png": "[encoded data removed]",
      "text/plain": [
       "<Figure size 640x480 with 1 Axes>"
      ]
     },
     "metadata": {},
     "output_type": "display_data"
    }
   ],
   "source": [
    "zs = [p[2] for p in flat_local_max]\n",
    "plt.hist(zs, log=True)"
   ]
  },
  {
   "cell_type": "markdown",
   "metadata": {},
   "source": [
    "Again let's print some samples:"
   ]
  },
  {
   "cell_type": "code",
   "execution_count": 13,
   "metadata": {},
   "outputs": [],
   "source": [
    "flat_local_max.sort(key=lambda p: p[2])\n",
    "for i in [-20, -10, -1, 0, 100, 200, 300, 400, 500, 600, 700, 800, 900]:\n",
    "    for x, y, z in flat_local_max:\n",
    "        if z > i:\n",
    "            print(f\"x, y, z = {x}, {y}, {z}\")\n",
    "            print(h[x-2:x+3, y-2:y+3])\n",
    "            break"
   ]
  },
  {
   "cell_type": "markdown",
   "metadata": {},
   "source": [
    "Question. Do we want to report this number (530415 flat local max) to distinguish them from those places that are strictly higher than at one of its neighbours?\n",
    "\n",
    "Another question is how many **strict local maxima** there are, defined as a point that is strictly higher than *all* of its neighbours?"
   ]
  },
  {
   "cell_type": "markdown",
   "metadata": {},
   "source": [
    "### What about strict local maxima?"
   ]
  },
  {
   "cell_type": "code",
   "execution_count": 14,
   "metadata": {},
   "outputs": [],
   "source": [
    "neighbours = [\n",
    "    (-1, 0), (1, 0), (0, -1), (0, 1),\n",
    "    (-1, -1), (-1, 1), (1, 1), (1, -1),\n",
    "]\n",
    "eps = 1e-5\n",
    "m, n = h.shape\n",
    "strict_local_max = []\n",
    "for i in range(len_maxima):\n",
    "    x, y = maxima[i]\n",
    "    strict = True\n",
    "    for dx, dy in neighbours:\n",
    "        sx, sy = x + dx, y + dy\n",
    "        if not (0 <= sx < m and 0 <= sy < n):\n",
    "            continue\n",
    "        if not abs(h[sx, sy] - h[x, y]) > eps:\n",
    "            strict = False\n",
    "            break\n",
    "    if strict: \n",
    "        strict_local_max.append((x, y, h[x, y]))"
   ]
  },
  {
   "cell_type": "code",
   "execution_count": 15,
   "metadata": {},
   "outputs": [
    {
     "data": {
      "text/plain": [
       "868312"
      ]
     },
     "execution_count": 15,
     "metadata": {},
     "output_type": "execute_result"
    }
   ],
   "source": [
    "len(strict_local_max)"
   ]
  },
  {
   "cell_type": "markdown",
   "metadata": {},
   "source": [
    "This is the number of 'hills' (a place that is higher than all of its adjacent places) in the ususal sense. Again we print out the height distribution and some samples."
   ]
  },
  {
   "cell_type": "code",
   "execution_count": 16,
   "metadata": {},
   "outputs": [
    {
     "data": {
      "text/plain": [
       "(array([5.86628e+05, 1.69302e+05, 6.30600e+04, 2.95750e+04, 1.13310e+04,\n",
       "        5.10700e+03, 2.34000e+03, 7.36000e+02, 1.98000e+02, 3.50000e+01]),\n",
       " array([ -20.80000305,  115.81000519,  252.42001343,  389.02999878,\n",
       "         525.64001465,  662.25      ,  798.86004639,  935.47003174,\n",
       "        1072.08007812, 1208.69006348, 1345.30004883]),\n",
       " <BarContainer object of 10 artists>)"
      ]
     },
     "execution_count": 16,
     "metadata": {},
     "output_type": "execute_result"
    },
    {
     "data": {
      "image/png": "[encoded data removed]",
      "text/plain": [
       "<Figure size 640x480 with 1 Axes>"
      ]
     },
     "metadata": {},
     "output_type": "display_data"
    }
   ],
   "source": [
    "zs = [p[2] for p in strict_local_max]\n",
    "plt.hist(zs, log=True)"
   ]
  },
  {
   "cell_type": "code",
   "execution_count": 17,
   "metadata": {},
   "outputs": [
    {
     "name": "stdout",
     "output_type": "stream",
     "text": [
      "x, y, z = 5937, 10468, -19.100000381469727\n",
      "[[-20.7 -19.8 -19.8 -20.9 -10.1]\n",
      " [-21.1 -20.3 -19.3 -22.2 -19. ]\n",
      " [-20.6 -19.7 -19.1 -21.6 -21.6]\n",
      " [-20.5 -20.3 -21.8 -21.  -21. ]\n",
      " [-21.4 -20.5 -19.8 -19.3 -19.9]]\n",
      "x, y, z = 5931, 9024, -9.900001525878906\n",
      "[[-66.9      -95.8      -33.600006  -6.699997 -76.      ]\n",
      " [-34.2      -73.       -30.699997 -25.5      -91.3     ]\n",
      " [-15.3      -43.1       -9.900002 -33.899994 -91.1     ]\n",
      " [  6.7      -39.2      -77.2      -33.300003 -11.900002]\n",
      " [ 25.6      -14.6      -52.3      -16.699997 -25.699997]]\n",
      "x, y, z = 5365, 11073, -0.8999999761581421\n",
      "[[-0.9 -1.4 -1.5 -1.3 -1. ]\n",
      " [-0.7 -1.  -1.2 -1.2 -1.2]\n",
      " [-1.  -1.5 -0.9 -1.1 -1.1]\n",
      " [-1.1 -1.2 -1.1 -1.  -0.8]\n",
      " [-1.1 -1.3 -1.1 -1.  -0.6]]\n",
      "x, y, z = 1753, 7879, 0.10000000149011612\n",
      "[[-0.04000854 -0.03000641 -0.02000427 -0.02000427 -0.01000214]\n",
      " [-0.03000641 -0.02000427 -0.01000214 -0.02000427 -0.02000427]\n",
      " [-0.02000427 -0.01000214  0.1        -0.01000214 -0.02000427]\n",
      " [-0.03000641 -0.02000427 -0.01000214 -0.02000427 -0.03000641]\n",
      " [-0.02000427 -0.02000427 -0.01000214 -0.02000427 -0.03000641]]\n",
      "x, y, z = 827, 3314, 100.0999984741211\n",
      "[[ 98.8  97.9  97.   95.   92.5]\n",
      " [ 97.9  99.1  99.   95.8  91.6]\n",
      " [ 95.8  99.5 100.1  98.4  91.1]\n",
      " [ 93.7  98.6  98.3  90.1  84.6]\n",
      " [ 86.9  84.8  83.2  81.4  77.9]]\n",
      "x, y, z = 1580, 4553, 200.10000610351562\n",
      "[[191.8 195.5 198.1 197.9 196. ]\n",
      " [194.9 197.9 199.2 198.4 196.6]\n",
      " [196.9 199.5 200.1 198.8 196.6]\n",
      " [198.1 199.7 199.5 198.6 196.5]\n",
      " [197.1 198.  198.  197.4 195.5]]\n",
      "x, y, z = 1157, 3973, 300.1000061035156\n",
      "[[254.9 262.  268.2 272.  286.7]\n",
      " [267.3 278.9 287.1 291.4 301.3]\n",
      " [281.6 289.6 300.1 299.6 298.7]\n",
      " [286.9 298.8 298.7 298.7 298.7]\n",
      " [285.7 290.  297.1 301.8 304.3]]\n",
      "x, y, z = 2668, 5577, 400.1000061035156\n",
      "[[396.7 398.  398.6 399.  398.2]\n",
      " [398.5 399.4 399.9 399.9 398.7]\n",
      " [398.3 399.6 400.1 399.9 399.1]\n",
      " [397.9 399.  399.7 399.8 398.4]\n",
      " [396.4 397.7 398.8 398.9 398.2]]\n",
      "x, y, z = 3962, 5778, 500.1000061035156\n",
      "[[498.6 498.8 498.  497.1 496.3]\n",
      " [498.6 499.7 499.9 499.  498. ]\n",
      " [498.  499.4 500.1 500.  498.7]\n",
      " [495.  497.8 498.8 500.  499.7]\n",
      " [492.  495.2 497.9 499.7 499.1]]\n",
      "x, y, z = 5267, 6418, 600.0999755859375\n",
      "[[600.2 598.9 594.9 589.7 584.2]\n",
      " [598.7 599.4 598.  593.4 588.5]\n",
      " [596.7 598.9 600.1 598.2 594.1]\n",
      " [594.7 597.3 600.  599.7 598.2]\n",
      " [593.3 595.5 598.7 600.6 602.4]]\n",
      "x, y, z = 15773, 6910, 700.0999755859375\n",
      "[[695.  693.4 691.1 688.2 685.6]\n",
      " [699.2 699.3 697.8 695.1 692.6]\n",
      " [698.6 699.7 700.1 698.8 697.5]\n",
      " [691.1 694.  695.9 697.  697.5]\n",
      " [680.6 686.  689.3 691.  693.4]]\n",
      "x, y, z = 14683, 4308, 800.0999755859375\n",
      "[[787.4 777.2 772.7 761.1 741.9]\n",
      " [800.9 791.3 795.2 788.  752.7]\n",
      " [799.5 799.5 800.1 788.4 758.2]\n",
      " [786.5 781.8 775.3 760.7 724.3]\n",
      " [764.1 758.6 746.3 718.4 696.6]]\n",
      "x, y, z = 15638, 5172, 900.0999755859375\n",
      "[[881.5 884.8 879.8 869.3 851.7]\n",
      " [882.8 891.9 896.7 889.5 868.9]\n",
      " [881.4 893.9 900.1 898.4 886.8]\n",
      " [881.  893.1 899.9 897.7 892.7]\n",
      " [878.9 890.9 892.6 889.3 882.3]]\n",
      "x, y, z = 14499, 4875, 1000.2000122070312\n",
      "[[1008.2  980.6  962.   941.5  919.3]\n",
      " [ 991.5  997.7  987.9  957.4  919.6]\n",
      " [ 970.   987.9 1000.2  982.7  931.5]\n",
      " [ 953.   971.8  982.6  987.5  951. ]\n",
      " [ 934.3  950.2  962.   971.3  967.3]]\n",
      "x, y, z = 14614, 4124, 1100.199951171875\n",
      "[[1043.5 1052.8 1053.  1046.4 1040.6]\n",
      " [1056.8 1074.7 1078.1 1070.8 1043.5]\n",
      " [1044.6 1076.2 1100.2 1082.9 1024.5]\n",
      " [1020.7 1051.7 1082.5 1068.  1008.6]\n",
      " [ 994.5 1027.6 1043.2 1027.1  964.2]]\n",
      "x, y, z = 16037, 5962, 1207.5\n",
      "[[1201.2 1205.  1205.5 1203.6 1199.6]\n",
      " [1202.6 1206.1 1207.4 1206.3 1204.3]\n",
      " [1201.9 1205.1 1207.5 1207.1 1206.4]\n",
      " [1199.2 1204.  1206.4 1207.1 1207.6]\n",
      " [1196.7 1201.4 1204.4 1205.9 1208.5]]\n",
      "x, y, z = 15978, 5977, 1309.0999755859375\n",
      "[[1288.7 1295.6 1297.1 1299.2 1299.7]\n",
      " [1299.1 1302.9 1305.3 1306.2 1304.2]\n",
      " [1302.8 1306.  1309.1 1308.9 1306.1]\n",
      " [1301.4 1305.9 1307.6 1307.7 1305.5]\n",
      " [1297.7 1301.4 1303.1 1304.  1301.9]]\n"
     ]
    }
   ],
   "source": [
    "strict_local_max.sort(key=lambda p: p[2])\n",
    "for i in [-20, -10, -1, 0, 100, 200, 300, 400, 500, 600, 700, 800, 900,\n",
    "          1000, 1100, 1200, 1300]:\n",
    "    for x, y, z in strict_local_max:\n",
    "        if z > i:\n",
    "            print(f\"x, y, z = {x}, {y}, {z}\")\n",
    "            print(h[x-2:x+3, y-2:y+3])\n",
    "            break"
   ]
  }
 ],
 "metadata": {
  "kernelspec": {
   "display_name": "venv",
   "language": "python",
   "name": "python3"
  },
  "language_info": {
   "codemirror_mode": {
    "name": "ipython",
    "version": 3
   },
   "file_extension": ".py",
   "mimetype": "text/x-python",
   "name": "python",
   "nbconvert_exporter": "python",
   "pygments_lexer": "ipython3",
   "version": "3.10.12"
  }
 },
 "nbformat": 4,
 "nbformat_minor": 2
}
