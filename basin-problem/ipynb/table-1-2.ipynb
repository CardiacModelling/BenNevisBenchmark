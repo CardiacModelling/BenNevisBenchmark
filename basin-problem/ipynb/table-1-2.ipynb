{
 "cells": [
  {
   "cell_type": "code",
   "execution_count": 1,
   "metadata": {},
   "outputs": [],
   "source": [
    "import numpy as np \n",
    "import nevis \n",
    "\n",
    "h = nevis.gb()\n",
    "\n",
    "area = np.load('../res/area-with-sea.npy')\n",
    "label = np.load('../res/label.npy')\n",
    "maxima = np.load('../res/maxima.npy')\n",
    "path_sum = np.load('../res/path_sum.npy')\n",
    "\n",
    "expected_fe = path_sum / area"
   ]
  },
  {
   "cell_type": "markdown",
   "metadata": {},
   "source": [
    "- `maxima` = [($x_0, y_0$), ... ], where $(x_i, y_i)$ is the grid coordinate of the $i$-th hill, sorted from the highest to the lowest. The length of maxima is the number of hills = number of basin of attraction.\n",
    "- `label[x][y]` means grid coordinate $(x, y)$ belongs to the $i$-th basin of attraction (which belongs to the $i$-th hill).\n",
    "- `area[i]` returns the area of the $i$-th basin of attraction (including sea).\n",
    "- `path_sum[i]` returns the sum of (gradient ascending) path lengths from each point to the $i$-th local max in the $i$-th b.o.a. \n",
    "- `path_sum[i] / area[i]` is the average path length (function evaluation) from each point in the $i$-th b.o.a to the $i$-th local max."
   ]
  },
  {
   "cell_type": "code",
   "execution_count": 2,
   "metadata": {},
   "outputs": [
    {
     "name": "stdout",
     "output_type": "stream",
     "text": [
      "364000000\n",
      "364000000\n"
     ]
    }
   ],
   "source": [
    "# check that the sum of areas add up\n",
    "m, n = nevis.dimensions()\n",
    "print(m * n // 2500)\n",
    "print(int(np.sum(area)))\n",
    "assert int(np.sum(area)) == m * n // 2500"
   ]
  },
  {
   "cell_type": "code",
   "execution_count": 3,
   "metadata": {},
   "outputs": [],
   "source": [
    "# check that the i-th local max belongs to the i-th b.o.a.\n",
    "len_maxima = len(maxima)\n",
    "for i in range(len_maxima):\n",
    "    assert i == label[maxima[i, 0], maxima[i, 1]]"
   ]
  },
  {
   "cell_type": "code",
   "execution_count": 4,
   "metadata": {},
   "outputs": [
    {
     "data": {
      "text/plain": [
       "array([[1343.1, 1342.1, 1340.9],\n",
       "       [1339.6, 1345.3, 1343.8],\n",
       "       [1222.5, 1299.1, 1327.7]], dtype=float32)"
      ]
     },
     "execution_count": 4,
     "metadata": {},
     "output_type": "execute_result"
    }
   ],
   "source": [
    "# a two-line tour to ben nevis\n",
    "x, y = maxima[0]\n",
    "h[x-1:x+2, y-1:y+2]"
   ]
  },
  {
   "cell_type": "markdown",
   "metadata": {},
   "source": [
    "### Calculation of Table 1 & Table 2"
   ]
  },
  {
   "cell_type": "code",
   "execution_count": 5,
   "metadata": {},
   "outputs": [],
   "source": [
    "intervals = [\n",
    "    (1340, 1350),\n",
    "    (1310, 1340),\n",
    "    (1297, 1310),\n",
    "    (1235, 1297),\n",
    "    (1215, 1235),\n",
    "    (1150, 1215),\n",
    "    (1100, 1150),\n",
    "    (1000, 1100),\n",
    "    (600, 1000),\n",
    "    (0, 600),\n",
    "    (-100, 0)\n",
    "]"
   ]
  },
  {
   "cell_type": "code",
   "execution_count": 6,
   "metadata": {},
   "outputs": [],
   "source": [
    "from collections import defaultdict\n",
    "\n",
    "# sum of area of b.o.a. of an interval\n",
    "interval_area = defaultdict(int)\n",
    "# sum of path length of b.o.a. of an interval\n",
    "interval_sum_path = defaultdict(float)\n",
    "# sum of all areas (check)\n",
    "s_prime = 0\n",
    "\n",
    "for i, (x, y) in enumerate(list(maxima)):\n",
    "    z = h[x, y]\n",
    "\n",
    "    # find the interval this height belongs to\n",
    "    for a, b in intervals:\n",
    "        if a <= z < b:\n",
    "            break\n",
    "    else:\n",
    "        print(z, h[x, y])\n",
    "    \n",
    "    interval_area[a] += area[i]\n",
    "    s_prime += area[i]\n",
    "    interval_sum_path[a] += path_sum[i]"
   ]
  },
  {
   "cell_type": "code",
   "execution_count": 7,
   "metadata": {},
   "outputs": [
    {
     "data": {
      "text/plain": [
       "364000000"
      ]
     },
     "execution_count": 7,
     "metadata": {},
     "output_type": "execute_result"
    }
   ],
   "source": [
    "# check that the sum of areas add up\n",
    "s_prime"
   ]
  },
  {
   "cell_type": "markdown",
   "metadata": {},
   "source": [
    "This is the data for Table 1:"
   ]
  },
  {
   "cell_type": "code",
   "execution_count": 8,
   "metadata": {},
   "outputs": [
    {
     "data": {
      "text/plain": [
       "defaultdict(int,\n",
       "            {1340: 878,\n",
       "             1310: 2181,\n",
       "             1297: 1322,\n",
       "             1235: 11789,\n",
       "             1215: 4988,\n",
       "             1150: 41411,\n",
       "             1100: 66998,\n",
       "             1000: 262135,\n",
       "             600: 5766304,\n",
       "             0: 357714202,\n",
       "             -100: 127792})"
      ]
     },
     "execution_count": 8,
     "metadata": {},
     "output_type": "execute_result"
    }
   ],
   "source": [
    "interval_area"
   ]
  },
  {
   "cell_type": "code",
   "execution_count": 9,
   "metadata": {},
   "outputs": [
    {
     "data": {
      "text/plain": [
       "defaultdict(float,\n",
       "            {1340: 23124.0,\n",
       "             1310: 73531.0,\n",
       "             1297: 24059.0,\n",
       "             1235: 242208.0,\n",
       "             1215: 111350.0,\n",
       "             1150: 936360.0,\n",
       "             1100: 1273818.0,\n",
       "             1000: 5910268.0,\n",
       "             600: 116073494.0,\n",
       "             0: 162857825980.0,\n",
       "             -100: 496888.0})"
      ]
     },
     "execution_count": 9,
     "metadata": {},
     "output_type": "execute_result"
    }
   ],
   "source": [
    "interval_sum_path"
   ]
  },
  {
   "cell_type": "code",
   "execution_count": 10,
   "metadata": {},
   "outputs": [
    {
     "data": {
      "text/plain": [
       "{1340: 26.337129840546698,\n",
       " 1310: 33.714351215038974,\n",
       " 1297: 18.198940998487142,\n",
       " 1235: 20.545254050385953,\n",
       " 1215: 22.323576583801124,\n",
       " 1150: 22.611383448842094,\n",
       " 1100: 19.01277650079107,\n",
       " 1000: 22.546657256757015,\n",
       " 600: 20.129617515829896,\n",
       " 0: 455.27358172936056,\n",
       " -100: 3.8882559158632777}"
      ]
     },
     "execution_count": 10,
     "metadata": {},
     "output_type": "execute_result"
    }
   ],
   "source": [
    "# average function eval for a run which ends up in a local max in this interval\n",
    "interval_avg_fe = {}\n",
    "for k in interval_sum_path.keys():\n",
    "    interval_avg_fe[k] = interval_sum_path[k] / interval_area[k]\n",
    "\n",
    "interval_avg_fe"
   ]
  },
  {
   "cell_type": "code",
   "execution_count": 11,
   "metadata": {},
   "outputs": [],
   "source": [
    "s = s_prime\n",
    "# the lower bound for each interval, ordered from low to high\n",
    "u = [x for x, _ in intervals][::-1]\n",
    "\n",
    "# convert the dictionary interval_avg_fe to a list\n",
    "a = [interval_avg_fe[x] for x in u ]\n",
    "\n",
    "# the probablity of a random initial point to start \n",
    "# in an b.o.a. whose local max belongs to each interval\n",
    "p = [interval_area[x] / s for x in u]"
   ]
  },
  {
   "cell_type": "code",
   "execution_count": 12,
   "metadata": {},
   "outputs": [
    {
     "data": {
      "text/plain": [
       "[-100, 0, 600, 1000, 1100, 1150, 1215, 1235, 1297, 1310, 1340]"
      ]
     },
     "execution_count": 12,
     "metadata": {},
     "output_type": "execute_result"
    }
   ],
   "source": [
    "u"
   ]
  },
  {
   "cell_type": "code",
   "execution_count": 13,
   "metadata": {},
   "outputs": [
    {
     "data": {
      "text/plain": [
       "[3.8882559158632777,\n",
       " 455.27358172936056,\n",
       " 20.129617515829896,\n",
       " 22.546657256757015,\n",
       " 19.01277650079107,\n",
       " 22.611383448842094,\n",
       " 22.323576583801124,\n",
       " 20.545254050385953,\n",
       " 18.198940998487142,\n",
       " 33.714351215038974,\n",
       " 26.337129840546698]"
      ]
     },
     "execution_count": 13,
     "metadata": {},
     "output_type": "execute_result"
    }
   ],
   "source": [
    "a"
   ]
  },
  {
   "cell_type": "code",
   "execution_count": 14,
   "metadata": {},
   "outputs": [
    {
     "data": {
      "text/plain": [
       "[0.0003510769230769231,\n",
       " 0.9827313241758242,\n",
       " 0.015841494505494505,\n",
       " 0.0007201510989010989,\n",
       " 0.00018406043956043956,\n",
       " 0.00011376648351648352,\n",
       " 1.3703296703296703e-05,\n",
       " 3.238736263736264e-05,\n",
       " 3.6318681318681317e-06,\n",
       " 5.9917582417582414e-06,\n",
       " 2.4120879120879122e-06]"
      ]
     },
     "execution_count": 14,
     "metadata": {},
     "output_type": "execute_result"
    }
   ],
   "source": [
    "p"
   ]
  },
  {
   "cell_type": "code",
   "execution_count": 15,
   "metadata": {},
   "outputs": [
    {
     "data": {
      "text/plain": [
       "1.0"
      ]
     },
     "execution_count": 15,
     "metadata": {},
     "output_type": "execute_result"
    }
   ],
   "source": [
    "sum(p) # this should be one"
   ]
  },
  {
   "cell_type": "code",
   "execution_count": 16,
   "metadata": {},
   "outputs": [
    {
     "name": "stdout",
     "output_type": "stream",
     "text": [
      "-100 447.75546999999995\n",
      "0 447.75546999999995\n",
      "600 447.91272182018355\n",
      "1000 26466.845124866722\n",
      "1100 416089.2491741349\n",
      "1150 1257905.107627923\n",
      "1215 2604852.100561725\n",
      "1235 7703137.871258329\n",
      "1297 10079343.913415886\n",
      "1310 37202234.895991854\n",
      "1340 53279827.093737766\n"
     ]
    }
   ],
   "source": [
    "def calc(p, a, k, n):\n",
    "    return sum(p[i] * a[i] for i in range(n)) / (1 - sum(p[i] for i in range(k - 1)))\n",
    "n = len(u) # number of intervals\n",
    "for k in range(n):\n",
    "    print(u[k], calc(p, a, k, n))\n",
    "# this is the data for Table 2"
   ]
  },
  {
   "cell_type": "code",
   "execution_count": 17,
   "metadata": {},
   "outputs": [],
   "source": [
    "# convert the data to latex format\n",
    "def to_latex(float_number):\n",
    "    import math\n",
    "    # Extracting the exponent part\n",
    "    exponent = int(math.floor(math.log10(abs(float_number))))\n",
    "\n",
    "    # Extracting the mantissa part\n",
    "    mantissa = float_number / (10 ** exponent)\n",
    "\n",
    "    # Formatting the float number in the LaTeX style format\n",
    "    latex_formatted_number = \"\\\\({:.2f} \\\\times 10^{{{}}}\\\\)\".format(mantissa, exponent)\n",
    "    return latex_formatted_number"
   ]
  },
  {
   "cell_type": "code",
   "execution_count": 18,
   "metadata": {},
   "outputs": [
    {
     "name": "stdout",
     "output_type": "stream",
     "text": [
      "\\( -100 \\) & \\(4.48 \\times 10^{2}\\) \\\\\n",
      "\\( 0 \\) & \\(4.48 \\times 10^{2}\\) \\\\\n",
      "\\( 600 \\) & \\(4.48 \\times 10^{2}\\) \\\\\n",
      "\\( 1000 \\) & \\(2.65 \\times 10^{4}\\) \\\\\n",
      "\\( 1100 \\) & \\(4.16 \\times 10^{5}\\) \\\\\n",
      "\\( 1150 \\) & \\(1.26 \\times 10^{6}\\) \\\\\n",
      "\\( 1215 \\) & \\(2.60 \\times 10^{6}\\) \\\\\n",
      "\\( 1235 \\) & \\(7.70 \\times 10^{6}\\) \\\\\n",
      "\\( 1297 \\) & \\(1.01 \\times 10^{7}\\) \\\\\n",
      "\\( 1310 \\) & \\(3.72 \\times 10^{7}\\) \\\\\n",
      "\\( 1340 \\) & \\(5.33 \\times 10^{7}\\) \\\\\n"
     ]
    }
   ],
   "source": [
    "n = len(u)\n",
    "for k in range(n):\n",
    "    print('\\\\(', u[k], '\\\\)', '&', to_latex(calc(p, a, k, n)), '\\\\\\\\')"
   ]
  },
  {
   "cell_type": "code",
   "execution_count": 19,
   "metadata": {},
   "outputs": [
    {
     "name": "stdout",
     "output_type": "stream",
     "text": [
      "1340 \\(8.78 \\times 10^{2}\\) & \\(2.41 \\times 10^{-6}\\)\n",
      "1310 \\(2.18 \\times 10^{3}\\) & \\(5.99 \\times 10^{-6}\\)\n",
      "1297 \\(1.32 \\times 10^{3}\\) & \\(3.63 \\times 10^{-6}\\)\n",
      "1235 \\(1.18 \\times 10^{4}\\) & \\(3.24 \\times 10^{-5}\\)\n",
      "1215 \\(4.99 \\times 10^{3}\\) & \\(1.37 \\times 10^{-5}\\)\n",
      "1150 \\(4.14 \\times 10^{4}\\) & \\(1.14 \\times 10^{-4}\\)\n",
      "1100 \\(6.70 \\times 10^{4}\\) & \\(1.84 \\times 10^{-4}\\)\n",
      "1000 \\(2.62 \\times 10^{5}\\) & \\(7.20 \\times 10^{-4}\\)\n",
      "600 \\(5.77 \\times 10^{6}\\) & \\(1.58 \\times 10^{-2}\\)\n",
      "0 \\(3.58 \\times 10^{8}\\) & \\(9.83 \\times 10^{-1}\\)\n",
      "-100 \\(1.28 \\times 10^{5}\\) & \\(3.51 \\times 10^{-4}\\)\n"
     ]
    }
   ],
   "source": [
    "for a, c in interval_area.items():\n",
    "    print(a, to_latex(c), '&', to_latex(c / s))"
   ]
  },
  {
   "cell_type": "markdown",
   "metadata": {},
   "source": [
    "### Number of local maxima over 3000 feet"
   ]
  },
  {
   "cell_type": "code",
   "execution_count": 20,
   "metadata": {},
   "outputs": [
    {
     "name": "stdout",
     "output_type": "stream",
     "text": [
      "1242\n",
      "981133\n"
     ]
    }
   ],
   "source": [
    "cnt_3000_feet = 0\n",
    "cnt_all = 0\n",
    "\n",
    "for x, y in maxima:\n",
    "    z = h[x, y]\n",
    "    if z >= 914.4:\n",
    "        cnt_3000_feet += 1\n",
    "    cnt_all += 1\n",
    "\n",
    "print(cnt_3000_feet)\n",
    "print(cnt_all)"
   ]
  }
 ],
 "metadata": {
  "kernelspec": {
   "display_name": "venv",
   "language": "python",
   "name": "python3"
  },
  "language_info": {
   "codemirror_mode": {
    "name": "ipython",
    "version": 3
   },
   "file_extension": ".py",
   "mimetype": "text/x-python",
   "name": "python",
   "nbconvert_exporter": "python",
   "pygments_lexer": "ipython3",
   "version": "3.10.12"
  }
 },
 "nbformat": 4,
 "nbformat_minor": 2
}
