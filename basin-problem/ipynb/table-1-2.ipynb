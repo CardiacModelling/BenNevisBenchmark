{
 "cells": [
  {
   "cell_type": "code",
   "execution_count": 1,
   "metadata": {},
   "outputs": [],
   "source": [
    "import numpy as np \n",
    "import nevis \n",
    "\n",
    "h = nevis.gb()\n",
    "\n",
    "area = np.load('../res/area-with-sea.npy')\n",
    "label = np.load('../res/label.npy')\n",
    "maxima = np.load('../res/maxima.npy')\n",
    "path_sum = np.load('../res/path_sum.npy')\n",
    "\n",
    "expected_fe = path_sum / area"
   ]
  },
  {
   "cell_type": "markdown",
   "metadata": {},
   "source": [
    "- `maxima` = [($x_0, y_0$), ... ], where $(x_i, y_i)$ is the grid coordinate of the $i$-th hill, sorted from the highest to the lowest. The length of maxima is the number of hills = number of basin of attraction.\n",
    "- `label[x][y]` means grid coordinate $(x, y)$ belongs to the $i$-th basin of attraction (which belongs to the $i$-th hill).\n",
    "- `area[i]` returns the area of the $i$-th basin of attraction (including sea).\n",
    "- `path_sum[i]` returns the sum of (gradient ascending) path lengths from each point to the $i$-th local max in the $i$-th b.o.a. \n",
    "- `path_sum[i] / area[i]` is the average path length (function evaluation) from each point in the $i$-th b.o.a to the $i$-th local max."
   ]
  },
  {
   "cell_type": "code",
   "execution_count": 2,
   "metadata": {},
   "outputs": [],
   "source": [
    "# check that the sum of areas add up\n",
    "m, n = nevis.dimensions()\n",
    "assert int(np.sum(area)) == m * n // 2500"
   ]
  },
  {
   "cell_type": "code",
   "execution_count": 3,
   "metadata": {},
   "outputs": [],
   "source": [
    "# check that the i-th local max belongs to the i-th b.o.a.\n",
    "len_maxima = len(maxima)\n",
    "for i in range(len_maxima):\n",
    "    assert i == label[maxima[i, 0], maxima[i, 1]]"
   ]
  },
  {
   "cell_type": "code",
   "execution_count": 4,
   "metadata": {},
   "outputs": [
    {
     "data": {
      "text/plain": [
       "array([[1343.1, 1342.1, 1340.9],\n",
       "       [1339.6, 1345.3, 1343.8],\n",
       "       [1222.5, 1299.1, 1327.7]], dtype=float32)"
      ]
     },
     "execution_count": 4,
     "metadata": {},
     "output_type": "execute_result"
    }
   ],
   "source": [
    "# a two-line tour to ben nevis\n",
    "x, y = maxima[0]\n",
    "h[x-1:x+2, y-1:y+2]"
   ]
  },
  {
   "cell_type": "markdown",
   "metadata": {},
   "source": [
    "### Calculation of Table 1 & Table 2"
   ]
  },
  {
   "cell_type": "code",
   "execution_count": 5,
   "metadata": {},
   "outputs": [],
   "source": [
    "intervals = [\n",
    "    (1340, 1350),\n",
    "    (1310, 1340),\n",
    "    (1297, 1310),\n",
    "    (1235, 1297),\n",
    "    (1215, 1235),\n",
    "    (1150, 1215),\n",
    "    (1100, 1150),\n",
    "    (1000, 1100),\n",
    "    (600, 1000),\n",
    "    (0, 600),\n",
    "    (-100, 0)\n",
    "]"
   ]
  },
  {
   "cell_type": "code",
   "execution_count": 6,
   "metadata": {},
   "outputs": [],
   "source": [
    "from collections import defaultdict\n",
    "\n",
    "# sum of area of b.o.a. of an interval\n",
    "interval_area = defaultdict(int)\n",
    "# sum of path length of b.o.a. of an interval\n",
    "interval_sum_path = defaultdict(float)\n",
    "# sum of all areas (check)\n",
    "s_prime = 0\n",
    "\n",
    "for i, (x, y) in enumerate(list(maxima)):\n",
    "    z = h[x, y]\n",
    "\n",
    "    # find the interval this height belongs to\n",
    "    for a, b in intervals:\n",
    "        if a <= z < b:\n",
    "            break\n",
    "    else:\n",
    "        print(z, h[x, y])\n",
    "    \n",
    "    interval_area[a] += area[i]\n",
    "    s_prime += area[i]\n",
    "    interval_sum_path[a] += path_sum[i]"
   ]
  },
  {
   "cell_type": "code",
   "execution_count": 7,
   "metadata": {},
   "outputs": [
    {
     "data": {
      "text/plain": [
       "364000000"
      ]
     },
     "execution_count": 7,
     "metadata": {},
     "output_type": "execute_result"
    }
   ],
   "source": [
    "# check that the sum of areas add up\n",
    "s_prime"
   ]
  },
  {
   "cell_type": "markdown",
   "metadata": {},
   "source": [
    "This is the data for Table 1:"
   ]
  },
  {
   "cell_type": "code",
   "execution_count": 8,
   "metadata": {},
   "outputs": [
    {
     "data": {
      "text/plain": [
       "defaultdict(int,\n",
       "            {1340: 878,\n",
       "             1310: 2180,\n",
       "             1297: 1322,\n",
       "             1235: 11351,\n",
       "             1215: 4976,\n",
       "             1150: 41363,\n",
       "             1100: 64172,\n",
       "             1000: 255750,\n",
       "             600: 5692183,\n",
       "             0: 357762771,\n",
       "             -100: 163054})"
      ]
     },
     "execution_count": 8,
     "metadata": {},
     "output_type": "execute_result"
    }
   ],
   "source": [
    "interval_area"
   ]
  },
  {
   "cell_type": "code",
   "execution_count": 9,
   "metadata": {},
   "outputs": [
    {
     "data": {
      "text/plain": [
       "defaultdict(float,\n",
       "            {1340: 23125.0,\n",
       "             1310: 73477.0,\n",
       "             1297: 24060.0,\n",
       "             1235: 224387.0,\n",
       "             1215: 108889.0,\n",
       "             1150: 934351.0,\n",
       "             1100: 1161925.0,\n",
       "             1000: 5593992.0,\n",
       "             600: 112078653.0,\n",
       "             0: 160931467706.0,\n",
       "             -100: 433029.0})"
      ]
     },
     "execution_count": 9,
     "metadata": {},
     "output_type": "execute_result"
    }
   ],
   "source": [
    "interval_sum_path"
   ]
  },
  {
   "cell_type": "code",
   "execution_count": 10,
   "metadata": {},
   "outputs": [
    {
     "data": {
      "text/plain": [
       "{1340: 26.338268792710707,\n",
       " 1310: 33.70504587155963,\n",
       " 1297: 18.19969742813918,\n",
       " 1235: 19.76803805832085,\n",
       " 1215: 21.88283762057878,\n",
       " 1150: 22.589053018398086,\n",
       " 1100: 18.106417128965905,\n",
       " 1000: 21.872891495601174,\n",
       " 600: 19.689924410371205,\n",
       " 0: 449.8273178513591,\n",
       " -100: 2.655739816257191}"
      ]
     },
     "execution_count": 10,
     "metadata": {},
     "output_type": "execute_result"
    }
   ],
   "source": [
    "# average function eval for a run which ends up in a local max in this interval\n",
    "interval_avg_fe = {}\n",
    "for k in interval_sum_path.keys():\n",
    "    interval_avg_fe[k] = interval_sum_path[k] / interval_area[k]\n",
    "\n",
    "interval_avg_fe"
   ]
  },
  {
   "cell_type": "code",
   "execution_count": 11,
   "metadata": {},
   "outputs": [],
   "source": [
    "s = s_prime\n",
    "# the lower bound for each interval, ordered from low to high\n",
    "u = [x for x, _ in intervals][::-1]\n",
    "\n",
    "# convert the dictionary interval_avg_fe to a list\n",
    "a = [interval_avg_fe[x] for x in u ]\n",
    "\n",
    "# the probablity of a random initial point to start \n",
    "# in an b.o.a. whose local max belongs to each interval\n",
    "p = [interval_area[x] / s for x in u]"
   ]
  },
  {
   "cell_type": "code",
   "execution_count": 12,
   "metadata": {},
   "outputs": [
    {
     "data": {
      "text/plain": [
       "[-100, 0, 600, 1000, 1100, 1150, 1215, 1235, 1297, 1310, 1340]"
      ]
     },
     "execution_count": 12,
     "metadata": {},
     "output_type": "execute_result"
    }
   ],
   "source": [
    "u"
   ]
  },
  {
   "cell_type": "code",
   "execution_count": 13,
   "metadata": {},
   "outputs": [
    {
     "data": {
      "text/plain": [
       "[2.655739816257191,\n",
       " 449.8273178513591,\n",
       " 19.689924410371205,\n",
       " 21.872891495601174,\n",
       " 18.106417128965905,\n",
       " 22.589053018398086,\n",
       " 21.88283762057878,\n",
       " 19.76803805832085,\n",
       " 18.19969742813918,\n",
       " 33.70504587155963,\n",
       " 26.338268792710707]"
      ]
     },
     "execution_count": 13,
     "metadata": {},
     "output_type": "execute_result"
    }
   ],
   "source": [
    "a"
   ]
  },
  {
   "cell_type": "code",
   "execution_count": 14,
   "metadata": {},
   "outputs": [
    {
     "data": {
      "text/plain": [
       "[0.0004479505494505495,\n",
       " 0.9828647554945055,\n",
       " 0.015637865384615385,\n",
       " 0.0007026098901098901,\n",
       " 0.00017629670329670329,\n",
       " 0.00011363461538461538,\n",
       " 1.367032967032967e-05,\n",
       " 3.118406593406593e-05,\n",
       " 3.6318681318681317e-06,\n",
       " 5.989010989010989e-06,\n",
       " 2.4120879120879122e-06]"
      ]
     },
     "execution_count": 14,
     "metadata": {},
     "output_type": "execute_result"
    }
   ],
   "source": [
    "p"
   ]
  },
  {
   "cell_type": "code",
   "execution_count": 15,
   "metadata": {},
   "outputs": [
    {
     "data": {
      "text/plain": [
       "1.0"
      ]
     },
     "execution_count": 15,
     "metadata": {},
     "output_type": "execute_result"
    }
   ],
   "source": [
    "sum(p) # this should be one"
   ]
  },
  {
   "cell_type": "code",
   "execution_count": 16,
   "metadata": {},
   "outputs": [
    {
     "name": "stdout",
     "output_type": "stream",
     "text": [
      "-100 442.4508889945055\n",
      "0 442.4508889945055\n",
      "600 442.64917393518357\n",
      "1000 26514.238327674124\n",
      "1100 421611.2473402732\n",
      "1150 1275741.2239507756\n",
      "1215 2594685.413145637\n",
      "1235 7777665.697291828\n",
      "1297 10237882.117723439\n",
      "1310 36769891.23139272\n",
      "1340 52665835.05361826\n"
     ]
    }
   ],
   "source": [
    "def calc(p, a, k, n):\n",
    "    return sum(p[i] * a[i] for i in range(n)) / (1 - sum(p[i] for i in range(k - 1)))\n",
    "n = len(u) # number of intervals\n",
    "for k in range(n):\n",
    "    print(u[k], calc(p, a, k, n))\n",
    "# this is the data for Table 2"
   ]
  },
  {
   "cell_type": "code",
   "execution_count": 17,
   "metadata": {},
   "outputs": [],
   "source": [
    "# convert the data to latex format\n",
    "def to_latex(float_number):\n",
    "    import math\n",
    "    # Extracting the exponent part\n",
    "    exponent = int(math.floor(math.log10(abs(float_number))))\n",
    "\n",
    "    # Extracting the mantissa part\n",
    "    mantissa = float_number / (10 ** exponent)\n",
    "\n",
    "    # Formatting the float number in the LaTeX style format\n",
    "    latex_formatted_number = \"\\\\({:.2f} \\\\times 10^{{{}}}\\\\)\".format(mantissa, exponent)\n",
    "    return latex_formatted_number"
   ]
  },
  {
   "cell_type": "code",
   "execution_count": 18,
   "metadata": {},
   "outputs": [
    {
     "name": "stdout",
     "output_type": "stream",
     "text": [
      "\\( -100 \\) & \\(4.42 \\times 10^{2}\\) \\\\\n",
      "\\( 0 \\) & \\(4.42 \\times 10^{2}\\) \\\\\n",
      "\\( 600 \\) & \\(4.43 \\times 10^{2}\\) \\\\\n",
      "\\( 1000 \\) & \\(2.65 \\times 10^{4}\\) \\\\\n",
      "\\( 1100 \\) & \\(4.22 \\times 10^{5}\\) \\\\\n",
      "\\( 1150 \\) & \\(1.28 \\times 10^{6}\\) \\\\\n",
      "\\( 1215 \\) & \\(2.59 \\times 10^{6}\\) \\\\\n",
      "\\( 1235 \\) & \\(7.78 \\times 10^{6}\\) \\\\\n",
      "\\( 1297 \\) & \\(1.02 \\times 10^{7}\\) \\\\\n",
      "\\( 1310 \\) & \\(3.68 \\times 10^{7}\\) \\\\\n",
      "\\( 1340 \\) & \\(5.27 \\times 10^{7}\\) \\\\\n"
     ]
    }
   ],
   "source": [
    "n = len(u)\n",
    "for k in range(n):\n",
    "    print('\\\\(', u[k], '\\\\)', '&', to_latex(calc(p, a, k, n)), '\\\\\\\\')"
   ]
  },
  {
   "cell_type": "code",
   "execution_count": 19,
   "metadata": {},
   "outputs": [
    {
     "name": "stdout",
     "output_type": "stream",
     "text": [
      "1340 \\(8.78 \\times 10^{2}\\) & \\(2.41 \\times 10^{-6}\\)\n",
      "1310 \\(2.18 \\times 10^{3}\\) & \\(5.99 \\times 10^{-6}\\)\n",
      "1297 \\(1.32 \\times 10^{3}\\) & \\(3.63 \\times 10^{-6}\\)\n",
      "1235 \\(1.14 \\times 10^{4}\\) & \\(3.12 \\times 10^{-5}\\)\n",
      "1215 \\(4.98 \\times 10^{3}\\) & \\(1.37 \\times 10^{-5}\\)\n",
      "1150 \\(4.14 \\times 10^{4}\\) & \\(1.14 \\times 10^{-4}\\)\n",
      "1100 \\(6.42 \\times 10^{4}\\) & \\(1.76 \\times 10^{-4}\\)\n",
      "1000 \\(2.56 \\times 10^{5}\\) & \\(7.03 \\times 10^{-4}\\)\n",
      "600 \\(5.69 \\times 10^{6}\\) & \\(1.56 \\times 10^{-2}\\)\n",
      "0 \\(3.58 \\times 10^{8}\\) & \\(9.83 \\times 10^{-1}\\)\n",
      "-100 \\(1.63 \\times 10^{5}\\) & \\(4.48 \\times 10^{-4}\\)\n"
     ]
    }
   ],
   "source": [
    "for a, c in interval_area.items():\n",
    "    print(a, to_latex(c), '&', to_latex(c / s))"
   ]
  },
  {
   "cell_type": "markdown",
   "metadata": {},
   "source": [
    "### Number of local maxima over 3000 feet"
   ]
  },
  {
   "cell_type": "code",
   "execution_count": 20,
   "metadata": {},
   "outputs": [
    {
     "name": "stdout",
     "output_type": "stream",
     "text": [
      "1362\n",
      "2138823\n"
     ]
    }
   ],
   "source": [
    "cnt_3000_feet = 0\n",
    "cnt_all = 0\n",
    "\n",
    "for x, y in maxima:\n",
    "    z = h[x, y]\n",
    "    if z >= 914.4:\n",
    "        cnt_3000_feet += 1\n",
    "    cnt_all += 1\n",
    "\n",
    "print(cnt_3000_feet)\n",
    "print(cnt_all)"
   ]
  }
 ],
 "metadata": {
  "kernelspec": {
   "display_name": "venv",
   "language": "python",
   "name": "python3"
  },
  "language_info": {
   "codemirror_mode": {
    "name": "ipython",
    "version": 3
   },
   "file_extension": ".py",
   "mimetype": "text/x-python",
   "name": "python",
   "nbconvert_exporter": "python",
   "pygments_lexer": "ipython3",
   "version": "3.10.12"
  }
 },
 "nbformat": 4,
 "nbformat_minor": 2
}
