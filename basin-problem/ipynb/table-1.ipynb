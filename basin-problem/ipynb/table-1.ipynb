{
 "cells": [
  {
   "cell_type": "code",
   "execution_count": 1,
   "metadata": {},
   "outputs": [],
   "source": [
    "import numpy as np \n",
    "import nevis \n",
    "\n",
    "h = nevis.gb()\n",
    "\n",
    "area = np.load('../res/area-with-sea.npy')\n",
    "label = np.load('../res/label.npy')\n",
    "maxima = np.load('../res/maxima.npy')\n",
    "path_sum = np.load('../res/path_sum.npy')\n",
    "\n",
    "expected_fe = path_sum / area"
   ]
  },
  {
   "cell_type": "markdown",
   "metadata": {},
   "source": [
    "- `maxima` = [($x_0, y_0$), ... ], where $(x_i, y_i)$ is the grid coordinate of the $i$-th hill, sorted from the highest to the lowest. The length of maxima is the number of hills = number of basin of attraction.\n",
    "- `label[x][y]` means grid coordinate $(x, y)$ belongs to the $i$-th basin of attraction (which belongs to the $i$-th hill).\n",
    "- `area[i]` returns the area of the $i$-th basin of attraction (including sea).\n",
    "- `path_sum[i]` returns the sum of (gradient ascending) path lengths from each point to the $i$-th local max in the $i$-th b.o.a. \n",
    "- `path_sum[i] / area[i]` is the average path length (function evaluation) from each point in the $i$-th b.o.a to the $i$-th local max."
   ]
  },
  {
   "cell_type": "code",
   "execution_count": 2,
   "metadata": {},
   "outputs": [
    {
     "name": "stdout",
     "output_type": "stream",
     "text": [
      "364000000\n",
      "364000000\n"
     ]
    }
   ],
   "source": [
    "# check that the sum of areas add up\n",
    "m, n = nevis.dimensions()\n",
    "print(m * n // 2500)\n",
    "print(int(np.sum(area)))\n",
    "assert int(np.sum(area)) == m * n // 2500"
   ]
  },
  {
   "cell_type": "code",
   "execution_count": 3,
   "metadata": {},
   "outputs": [
    {
     "name": "stdout",
     "output_type": "stream",
     "text": [
      "957174\n"
     ]
    }
   ],
   "source": [
    "# check that the i-th local max belongs to the i-th b.o.a.\n",
    "len_maxima = len(maxima)\n",
    "print(len_maxima)\n",
    "for i in range(len_maxima):\n",
    "    assert i == label[maxima[i, 0], maxima[i, 1]]"
   ]
  },
  {
   "cell_type": "code",
   "execution_count": 4,
   "metadata": {},
   "outputs": [
    {
     "data": {
      "text/plain": [
       "array([[1343.1, 1342.1, 1340.9],\n",
       "       [1339.6, 1345.3, 1343.8],\n",
       "       [1222.5, 1299.1, 1327.7]], dtype=float32)"
      ]
     },
     "execution_count": 4,
     "metadata": {},
     "output_type": "execute_result"
    }
   ],
   "source": [
    "# a two-line tour to ben nevis\n",
    "x, y = maxima[0]\n",
    "h[x-1:x+2, y-1:y+2]"
   ]
  },
  {
   "cell_type": "markdown",
   "metadata": {},
   "source": [
    "### Calculation of Table 1 & Table 2"
   ]
  },
  {
   "cell_type": "code",
   "execution_count": 5,
   "metadata": {},
   "outputs": [],
   "source": [
    "intervals = [\n",
    "    (1340, 1350),\n",
    "    (1310, 1340),\n",
    "    (1297, 1310),\n",
    "    (1235, 1297),\n",
    "    (1215, 1235),\n",
    "    (1150, 1215),\n",
    "    (1100, 1150),\n",
    "    (1000, 1100),\n",
    "    (600, 1000),\n",
    "    (0, 600),\n",
    "    (-100, 0)\n",
    "]"
   ]
  },
  {
   "cell_type": "code",
   "execution_count": 6,
   "metadata": {},
   "outputs": [],
   "source": [
    "from collections import defaultdict\n",
    "\n",
    "# sum of area of b.o.a. of an interval\n",
    "interval_area = defaultdict(int)\n",
    "# sum of path length of b.o.a. of an interval\n",
    "interval_sum_path = defaultdict(float)\n",
    "# sum of all areas (check)\n",
    "s_prime = 0\n",
    "\n",
    "for i, (x, y) in enumerate(list(maxima)):\n",
    "    z = h[x, y]\n",
    "\n",
    "    # find the interval this height belongs to\n",
    "    for a, b in intervals:\n",
    "        if a <= z < b:\n",
    "            break\n",
    "    else:\n",
    "        print(z, h[x, y])\n",
    "    \n",
    "    interval_area[a] += area[i]\n",
    "    s_prime += area[i]\n",
    "    interval_sum_path[a] += path_sum[i]"
   ]
  },
  {
   "cell_type": "code",
   "execution_count": 7,
   "metadata": {},
   "outputs": [
    {
     "data": {
      "text/plain": [
       "np.int32(364000000)"
      ]
     },
     "execution_count": 7,
     "metadata": {},
     "output_type": "execute_result"
    }
   ],
   "source": [
    "# check that the sum of areas add up\n",
    "s_prime"
   ]
  },
  {
   "cell_type": "markdown",
   "metadata": {},
   "source": [
    "This is the data for Table 1:"
   ]
  },
  {
   "cell_type": "code",
   "execution_count": 8,
   "metadata": {},
   "outputs": [
    {
     "data": {
      "text/plain": [
       "defaultdict(int,\n",
       "            {1340: np.int32(878),\n",
       "             1310: np.int32(2181),\n",
       "             1297: np.int32(1322),\n",
       "             1235: np.int32(11793),\n",
       "             1215: np.int32(4988),\n",
       "             1150: np.int32(41414),\n",
       "             1100: np.int32(66454),\n",
       "             1000: np.int32(261489),\n",
       "             600: np.int32(5768408),\n",
       "             0: np.int32(357718480),\n",
       "             -100: np.int32(122593)})"
      ]
     },
     "execution_count": 8,
     "metadata": {},
     "output_type": "execute_result"
    }
   ],
   "source": [
    "interval_area"
   ]
  },
  {
   "cell_type": "code",
   "execution_count": 9,
   "metadata": {},
   "outputs": [
    {
     "data": {
      "text/plain": [
       "defaultdict(float,\n",
       "            {1340: np.float64(23124.0),\n",
       "             1310: np.float64(73531.0),\n",
       "             1297: np.float64(24059.0),\n",
       "             1235: np.float64(242418.0),\n",
       "             1215: np.float64(109301.0),\n",
       "             1150: np.float64(936444.0),\n",
       "             1100: np.float64(1231966.0),\n",
       "             1000: np.float64(5864836.0),\n",
       "             600: np.float64(115924225.0),\n",
       "             0: np.float64(163118008842.0),\n",
       "             -100: np.float64(502026.0)})"
      ]
     },
     "execution_count": 9,
     "metadata": {},
     "output_type": "execute_result"
    }
   ],
   "source": [
    "interval_sum_path"
   ]
  },
  {
   "cell_type": "code",
   "execution_count": 10,
   "metadata": {},
   "outputs": [
    {
     "data": {
      "text/plain": [
       "{1340: np.float64(26.337129840546698),\n",
       " 1310: np.float64(33.714351215038974),\n",
       " 1297: np.float64(18.198940998487142),\n",
       " 1235: np.float64(20.556092597303486),\n",
       " 1215: np.float64(21.912790697674417),\n",
       " 1150: np.float64(22.611773796300767),\n",
       " 1100: np.float64(18.53862822403467),\n",
       " 1000: np.float64(22.42861458799414),\n",
       " 600: np.float64(20.096398347689693),\n",
       " 0: np.float64(455.9954767838665),\n",
       " -100: np.float64(4.095062523961401)}"
      ]
     },
     "execution_count": 10,
     "metadata": {},
     "output_type": "execute_result"
    }
   ],
   "source": [
    "# average function eval for a run which ends up in a local max in this interval\n",
    "interval_avg_fe = {}\n",
    "for k in interval_sum_path.keys():\n",
    "    interval_avg_fe[k] = interval_sum_path[k] / interval_area[k]\n",
    "\n",
    "interval_avg_fe"
   ]
  },
  {
   "cell_type": "code",
   "execution_count": 11,
   "metadata": {},
   "outputs": [],
   "source": [
    "s = s_prime\n",
    "# the lower bound for each interval, ordered from low to high\n",
    "u = [x for x, _ in intervals][::-1]\n",
    "\n",
    "# convert the dictionary interval_avg_fe to a list\n",
    "a = [interval_avg_fe[x] for x in u ]\n",
    "\n",
    "# the probablity of a random initial point to start \n",
    "# in an b.o.a. whose local max belongs to each interval\n",
    "p = [interval_area[x] / s for x in u]"
   ]
  },
  {
   "cell_type": "code",
   "execution_count": 12,
   "metadata": {},
   "outputs": [
    {
     "data": {
      "text/plain": [
       "[-100, 0, 600, 1000, 1100, 1150, 1215, 1235, 1297, 1310, 1340]"
      ]
     },
     "execution_count": 12,
     "metadata": {},
     "output_type": "execute_result"
    }
   ],
   "source": [
    "u"
   ]
  },
  {
   "cell_type": "code",
   "execution_count": 13,
   "metadata": {},
   "outputs": [
    {
     "data": {
      "text/plain": [
       "[np.float64(4.095062523961401),\n",
       " np.float64(455.9954767838665),\n",
       " np.float64(20.096398347689693),\n",
       " np.float64(22.42861458799414),\n",
       " np.float64(18.53862822403467),\n",
       " np.float64(22.611773796300767),\n",
       " np.float64(21.912790697674417),\n",
       " np.float64(20.556092597303486),\n",
       " np.float64(18.198940998487142),\n",
       " np.float64(33.714351215038974),\n",
       " np.float64(26.337129840546698)]"
      ]
     },
     "execution_count": 13,
     "metadata": {},
     "output_type": "execute_result"
    }
   ],
   "source": [
    "a"
   ]
  },
  {
   "cell_type": "code",
   "execution_count": 14,
   "metadata": {},
   "outputs": [
    {
     "data": {
      "text/plain": [
       "[np.float64(0.000336793956043956),\n",
       " np.float64(0.9827430769230769),\n",
       " np.float64(0.015847274725274724),\n",
       " np.float64(0.0007183763736263736),\n",
       " np.float64(0.00018256593406593407),\n",
       " np.float64(0.00011377472527472527),\n",
       " np.float64(1.3703296703296703e-05),\n",
       " np.float64(3.239835164835165e-05),\n",
       " np.float64(3.6318681318681317e-06),\n",
       " np.float64(5.9917582417582414e-06),\n",
       " np.float64(2.4120879120879122e-06)]"
      ]
     },
     "execution_count": 14,
     "metadata": {},
     "output_type": "execute_result"
    }
   ],
   "source": [
    "p"
   ]
  },
  {
   "cell_type": "code",
   "execution_count": 15,
   "metadata": {},
   "outputs": [
    {
     "data": {
      "text/plain": [
       "np.float64(1.0)"
      ]
     },
     "execution_count": 15,
     "metadata": {},
     "output_type": "execute_result"
    }
   ],
   "source": [
    "sum(p) # this should be one"
   ]
  },
  {
   "cell_type": "code",
   "execution_count": 16,
   "metadata": {},
   "outputs": [
    {
     "name": "stdout",
     "output_type": "stream",
     "text": [
      "-100 448.46961750549457\n",
      "0 448.46961750549457\n",
      "600 448.62071024926263\n",
      "1000 26505.094275674932\n",
      "1100 418015.3610246665\n",
      "1150 1265154.9311940982\n",
      "1215 2608714.8550877515\n",
      "1235 7713965.635193093\n",
      "1297 10092923.257806841\n",
      "1310 37261570.593777515\n",
      "1340 53364805.74427704\n"
     ]
    }
   ],
   "source": [
    "def calc(p, a, k, n):\n",
    "    return sum(p[i] * a[i] for i in range(n)) / (1 - sum(p[i] for i in range(k - 1)))\n",
    "n = len(u) # number of intervals\n",
    "for k in range(n):\n",
    "    print(u[k], calc(p, a, k, n))\n",
    "# this is the data for Table 2"
   ]
  },
  {
   "cell_type": "code",
   "execution_count": 17,
   "metadata": {},
   "outputs": [],
   "source": [
    "# convert the data to latex format\n",
    "def to_latex(float_number):\n",
    "    import math\n",
    "    # Extracting the exponent part\n",
    "    exponent = int(math.floor(math.log10(abs(float_number))))\n",
    "\n",
    "    # Extracting the mantissa part\n",
    "    mantissa = float_number / (10 ** exponent)\n",
    "\n",
    "    # Formatting the float number in the LaTeX style format\n",
    "    latex_formatted_number = \"\\\\({:.2f} \\\\times 10^{{{}}}\\\\)\".format(mantissa, exponent)\n",
    "    return latex_formatted_number"
   ]
  },
  {
   "cell_type": "markdown",
   "metadata": {},
   "source": [
    "The following is table 2:"
   ]
  },
  {
   "cell_type": "code",
   "execution_count": 18,
   "metadata": {},
   "outputs": [
    {
     "name": "stdout",
     "output_type": "stream",
     "text": [
      "\\( -100 \\) & \\(4.48 \\times 10^{2}\\) \\\\\n",
      "\\( 0 \\) & \\(4.48 \\times 10^{2}\\) \\\\\n",
      "\\( 600 \\) & \\(4.49 \\times 10^{2}\\) \\\\\n",
      "\\( 1000 \\) & \\(2.65 \\times 10^{4}\\) \\\\\n",
      "\\( 1100 \\) & \\(4.18 \\times 10^{5}\\) \\\\\n",
      "\\( 1150 \\) & \\(1.27 \\times 10^{6}\\) \\\\\n",
      "\\( 1215 \\) & \\(2.61 \\times 10^{6}\\) \\\\\n",
      "\\( 1235 \\) & \\(7.71 \\times 10^{6}\\) \\\\\n",
      "\\( 1297 \\) & \\(1.01 \\times 10^{7}\\) \\\\\n",
      "\\( 1310 \\) & \\(3.73 \\times 10^{7}\\) \\\\\n",
      "\\( 1340 \\) & \\(5.34 \\times 10^{7}\\) \\\\\n"
     ]
    }
   ],
   "source": [
    "n = len(u)\n",
    "for k in range(n):\n",
    "    print('\\\\(', u[k], '\\\\)', '&', to_latex(calc(p, a, k, n)), '\\\\\\\\')"
   ]
  },
  {
   "cell_type": "markdown",
   "metadata": {},
   "source": [
    "The following is table 1:"
   ]
  },
  {
   "cell_type": "code",
   "execution_count": 19,
   "metadata": {},
   "outputs": [
    {
     "name": "stdout",
     "output_type": "stream",
     "text": [
      "\\([-100, 0)\\)     & Below sea-level                                         & ---  & \\(1.23 \\times 10^{5}\\) & \\(3.37 \\times 10^{-4}\\) \\\\\n",
      "\\([0, 600)\\)     & Lowland areas                                           & ---  & \\(3.58 \\times 10^{8}\\) & \\(9.83 \\times 10^{-1}\\) \\\\\n",
      "\\([600, 1000)\\)  & Mountainous areas                                       & ---   & \\(5.77 \\times 10^{6}\\) & \\(1.58 \\times 10^{-2}\\) \\\\\n",
      "\\([1000, 1100)\\) & Mountains within top \\(\\sim\\)135 Munros \\& 5 Welsh Furths & ---   & \\(2.61 \\times 10^{5}\\) & \\(7.18 \\times 10^{-4}\\) \\\\\n",
      "\\([1100, 1150)\\) & Mountains within top \\(\\sim\\)50 Munros                    & --- & \\(6.65 \\times 10^{4}\\) & \\(1.83 \\times 10^{-4}\\) \\\\\n",
      "\\([1150, 1215)\\) & Mountains within top \\(\\sim\\)25 Munros                    & ---   & \\(4.14 \\times 10^{4}\\) & \\(1.14 \\times 10^{-4}\\) \\\\\n",
      "\\([1215, 1235)\\) & Wider Ben Nevis Massif (within top 9 Munros)                   & 1     & \\(4.99 \\times 10^{3}\\) & \\(1.37 \\times 10^{-5}\\) \\\\\n",
      "\\([1235, 1297)\\) & Cairngorm Plateau (within top 6 Munros)                        & 2    &  \\(1.18 \\times 10^{4}\\) & \\(3.24 \\times 10^{-5}\\) \\\\\n",
      "\\([1297, 1310)\\) & Ben Macdui (2nd highest Munro)                          & 3     & \\(1.32 \\times 10^{3}\\) & \\(3.63 \\times 10^{-6}\\) \\\\\n",
      "\\([1310, 1340)\\) & On Ben Nevis but not quite at the summit                & 7   & \\(2.18 \\times 10^{3}\\) & \\(5.99 \\times 10^{-6}\\) \\\\\n",
      "\\([1340, 1345)\\) & Ben Nevis (highest Munro)                               & 10         & \\(8.78 \\times 10^{2}\\) & \\(2.41 \\times 10^{-6}\\) \\\\\n"
     ]
    }
   ],
   "source": [
    "prefixes = [\n",
    "    \"\\([-100, 0)\\)     & Below sea-level                                         & ---  &\",\n",
    "    \"\\([0, 600)\\)     & Lowland areas                                           & ---  &\",\n",
    "    \"\\([600, 1000)\\)  & Mountainous areas                                       & ---   &\",\n",
    "    \"\\([1000, 1100)\\) & Mountains within top \\(\\sim\\)135 Munros \\& 5 Welsh Furths & ---   &\",\n",
    "    \"\\([1100, 1150)\\) & Mountains within top \\(\\sim\\)50 Munros                    & --- &\",\n",
    "    \"\\([1150, 1215)\\) & Mountains within top \\(\\sim\\)25 Munros                    & ---   &\",\n",
    "    \"\\([1215, 1235)\\) & Wider Ben Nevis Massif (within top 9 Munros)                   & 1     &\",\n",
    "    \"\\([1235, 1297)\\) & Cairngorm Plateau (within top 6 Munros)                        & 2    & \",\n",
    "    \"\\([1297, 1310)\\) & Ben Macdui (2nd highest Munro)                          & 3     &\",\n",
    "    \"\\([1310, 1340)\\) & On Ben Nevis but not quite at the summit                & 7   &\",\n",
    "    \"\\([1340, 1345)\\) & Ben Nevis (highest Munro)                               & 10         &\",\n",
    "]\n",
    "\n",
    "for p, (a, c) in zip(prefixes, list(interval_area.items())[::-1]):\n",
    "    print(p, to_latex(c), '&', to_latex(c / s), '\\\\\\\\')"
   ]
  },
  {
   "cell_type": "markdown",
   "metadata": {},
   "source": [
    "### Number of local maxima over 3000 feet"
   ]
  },
  {
   "cell_type": "code",
   "execution_count": 20,
   "metadata": {},
   "outputs": [
    {
     "name": "stdout",
     "output_type": "stream",
     "text": [
      "1242\n",
      "957174\n",
      "1192\n"
     ]
    }
   ],
   "source": [
    "cnt_3000_feet = 0\n",
    "cnt_all = 0\n",
    "cnt_3000_feet_north_glasgow = 0\n",
    "\n",
    "for x, y in maxima:\n",
    "    z = h[x, y]\n",
    "    if z >= 914.4:\n",
    "        cnt_3000_feet += 1\n",
    "        if x >= 658388 // 50:\n",
    "            cnt_3000_feet_north_glasgow += 1\n",
    "    cnt_all += 1\n",
    "\n",
    "print(cnt_3000_feet)\n",
    "print(cnt_all)\n",
    "print(cnt_3000_feet_north_glasgow)"
   ]
  },
  {
   "cell_type": "code",
   "execution_count": 21,
   "metadata": {},
   "outputs": [],
   "source": [
    "h = nevis.gb()"
   ]
  },
  {
   "cell_type": "code",
   "execution_count": 22,
   "metadata": {},
   "outputs": [
    {
     "data": {
      "text/plain": [
       "np.float32(199.0)"
      ]
     },
     "execution_count": 22,
     "metadata": {},
     "output_type": "execute_result"
    }
   ],
   "source": [
    "import nevis\n",
    "hill = nevis.Hill.by_name('Cathkin Braes') # this place is roughly Glasgow\n",
    "x, y = hill.coords.grid\n",
    "h[y // 50, x // 50]"
   ]
  },
  {
   "cell_type": "markdown",
   "metadata": {},
   "source": [
    "The coordinate is confusing... you have to swap it and multiply/divide by 50."
   ]
  },
  {
   "cell_type": "code",
   "execution_count": 23,
   "metadata": {},
   "outputs": [
    {
     "data": {
      "text/plain": [
       "(np.int64(261476), np.int64(658388))"
      ]
     },
     "execution_count": 23,
     "metadata": {},
     "output_type": "execute_result"
    }
   ],
   "source": [
    "x, y"
   ]
  },
  {
   "cell_type": "code",
   "execution_count": 24,
   "metadata": {},
   "outputs": [
    {
     "data": {
      "text/plain": [
       "(np.int64(216666), np.int64(771288))"
      ]
     },
     "execution_count": 24,
     "metadata": {},
     "output_type": "execute_result"
    }
   ],
   "source": [
    "hill = nevis.Hill.by_rank(1)\n",
    "x1, y1 = hill.coords.grid\n",
    "x1, y1"
   ]
  },
  {
   "cell_type": "code",
   "execution_count": 25,
   "metadata": {},
   "outputs": [
    {
     "data": {
      "text/plain": [
       "np.float32(1345.3)"
      ]
     },
     "execution_count": 25,
     "metadata": {},
     "output_type": "execute_result"
    }
   ],
   "source": [
    "h[y1 // 50, x1 // 50]"
   ]
  },
  {
   "cell_type": "code",
   "execution_count": 26,
   "metadata": {},
   "outputs": [
    {
     "data": {
      "text/plain": [
       "(26000, 14000)"
      ]
     },
     "execution_count": 26,
     "metadata": {},
     "output_type": "execute_result"
    }
   ],
   "source": [
    "h.shape"
   ]
  }
 ],
 "metadata": {
  "kernelspec": {
   "display_name": "venv",
   "language": "python",
   "name": "python3"
  },
  "language_info": {
   "codemirror_mode": {
    "name": "ipython",
    "version": 3
   },
   "file_extension": ".py",
   "mimetype": "text/x-python",
   "name": "python",
   "nbconvert_exporter": "python",
   "pygments_lexer": "ipython3",
   "version": "3.10.12"
  }
 },
 "nbformat": 4,
 "nbformat_minor": 2
}
