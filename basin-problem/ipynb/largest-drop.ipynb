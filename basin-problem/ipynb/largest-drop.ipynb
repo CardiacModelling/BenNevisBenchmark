{
 "cells": [
  {
   "cell_type": "code",
   "execution_count": 9,
   "metadata": {},
   "outputs": [],
   "source": [
    "import  nevis\n",
    "import numpy as np \n",
    "import matplotlib.pyplot as plt\n",
    "h = nevis.gb()\n",
    "\n",
    "label = np.load('../res/label.npy')\n",
    "maxima = np.load('../res/maxima.npy')"
   ]
  },
  {
   "cell_type": "code",
   "execution_count": 10,
   "metadata": {},
   "outputs": [],
   "source": [
    "\n",
    "# Get the dimensions of the label array\n",
    "rows, cols = label.shape\n"
   ]
  },
  {
   "cell_type": "code",
   "execution_count": 11,
   "metadata": {},
   "outputs": [],
   "source": [
    "def is_boundary_of_boa(i, j):\n",
    "    \"\"\"\n",
    "    Check if the given index (i, j) is on the boundary or has a neighboring cell\n",
    "    with a different label value.\n",
    "\n",
    "    Parameters:\n",
    "    label (np.ndarray): 2D numpy array with shape (26000, 14000).\n",
    "    i (int): Row index of the label array.\n",
    "    j (int): Column index of the label array.\n",
    "\n",
    "    Returns:\n",
    "    bool: True if the index is on the boundary or has a neighbor with a different label value.\n",
    "    \"\"\"\n",
    "    \n",
    "    # Check if (i, j) is on the boundary of the array\n",
    "    if i == 0 or i == rows - 1 or j == 0 or j == cols - 1:\n",
    "        return True\n",
    "    \n",
    "    # Get the value of the current cell\n",
    "    current_value = label[i, j]\n",
    "    \n",
    "    # Check all 8 neighbors to see if any has a different value\n",
    "    for di in [-1, 0, 1]:\n",
    "        for dj in [-1, 0, 1]:\n",
    "            # Skip the center cell itself\n",
    "            if di == 0 and dj == 0:\n",
    "                continue\n",
    "            \n",
    "            # Calculate neighbor coordinates\n",
    "            ni, nj = i + di, j + dj\n",
    "            \n",
    "            # Check if the neighbor is within bounds and has a different value\n",
    "            if 0 <= ni < rows and 0 <= nj < cols:\n",
    "                if label[ni, nj] != current_value:\n",
    "                    return True\n",
    "    \n",
    "    # If no neighbors are different and it's not on the boundary, return False\n",
    "    return False\n"
   ]
  },
  {
   "cell_type": "code",
   "execution_count": 12,
   "metadata": {},
   "outputs": [],
   "source": [
    "from tqdm import tqdm"
   ]
  },
  {
   "cell_type": "code",
   "execution_count": 14,
   "metadata": {},
   "outputs": [
    {
     "name": "stderr",
     "output_type": "stream",
     "text": [
      "  0%|          | 0/26000 [00:00<?, ?it/s]"
     ]
    },
    {
     "name": "stderr",
     "output_type": "stream",
     "text": [
      "100%|██████████| 26000/26000 [25:06<00:00, 17.26it/s] \n"
     ]
    }
   ],
   "source": [
    "height, index = 0, None\n",
    "# We want to find the max height difference between \n",
    "# a point on the boundary of a boa and the optimum\n",
    "# and record the index of this optimum\n",
    "for i in tqdm(range(rows)):\n",
    "    for j in range(cols):\n",
    "        if not is_boundary_of_boa(i, j):\n",
    "            continue\n",
    "        mi, mj = maxima[label[i, j]]\n",
    "        current_height = abs(h[i, j] - h[mi, mj])\n",
    "        if current_height > height:\n",
    "            height = current_height\n",
    "            index = label[i, j]"
   ]
  },
  {
   "cell_type": "code",
   "execution_count": 21,
   "metadata": {},
   "outputs": [
    {
     "data": {
      "text/plain": [
       "np.int32(1)"
      ]
     },
     "execution_count": 21,
     "metadata": {},
     "output_type": "execute_result"
    }
   ],
   "source": [
    "index"
   ]
  },
  {
   "cell_type": "code",
   "execution_count": 16,
   "metadata": {},
   "outputs": [
    {
     "data": {
      "text/plain": [
       "np.float32(1319.2001)"
      ]
     },
     "execution_count": 16,
     "metadata": {},
     "output_type": "execute_result"
    }
   ],
   "source": [
    "height"
   ]
  },
  {
   "cell_type": "code",
   "execution_count": 18,
   "metadata": {},
   "outputs": [],
   "source": [
    "mi, mj = maxima[index]"
   ]
  },
  {
   "cell_type": "code",
   "execution_count": 19,
   "metadata": {},
   "outputs": [
    {
     "data": {
      "text/plain": [
       "(np.int32(15424), np.int32(4330))"
      ]
     },
     "execution_count": 19,
     "metadata": {},
     "output_type": "execute_result"
    }
   ],
   "source": [
    "mi, mj"
   ]
  },
  {
   "cell_type": "code",
   "execution_count": 20,
   "metadata": {},
   "outputs": [
    {
     "data": {
      "text/plain": [
       "np.float32(1339.4)"
      ]
     },
     "execution_count": 20,
     "metadata": {},
     "output_type": "execute_result"
    }
   ],
   "source": [
    "h[mi, mj]"
   ]
  }
 ],
 "metadata": {
  "kernelspec": {
   "display_name": "venv",
   "language": "python",
   "name": "python3"
  },
  "language_info": {
   "codemirror_mode": {
    "name": "ipython",
    "version": 3
   },
   "file_extension": ".py",
   "mimetype": "text/x-python",
   "name": "python",
   "nbconvert_exporter": "python",
   "pygments_lexer": "ipython3",
   "version": "3.10.12"
  }
 },
 "nbformat": 4,
 "nbformat_minor": 2
}
