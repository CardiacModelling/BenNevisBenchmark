{
 "cells": [
  {
   "cell_type": "code",
   "execution_count": 25,
   "metadata": {},
   "outputs": [],
   "source": [
    "import basin\n",
    "import numpy as np\n",
    "\n",
    "arrows = [\n",
    "    '↓',\n",
    "    '↘',\n",
    "    '→',\n",
    "    '↗',\n",
    "    '↑',\n",
    "    '↖',\n",
    "    '←',\n",
    "    '↙',\n",
    "    \"@\",  # (ab)using index -1 here\n",
    "]\n",
    "\n",
    "\n",
    "def run_algorithm(h):\n",
    "    # print(\"The input height array:\")\n",
    "    # print(h)\n",
    "\n",
    "    # calculate the list of maxima and the steepest neighbour for each point\n",
    "    maxima, sn = basin.find_maxima(h)\n",
    "    print(\"The coordinates of the local maxima:\")\n",
    "    print(maxima)\n",
    "    print(\"The steepest neighbour of each point:\")\n",
    "    # print(sn)\n",
    "\n",
    "    # print(\"which can be drawn as:\")\n",
    "    for x in sn:\n",
    "        for y in x:\n",
    "            print(arrows[y], end=\" \")\n",
    "        print()\n",
    "\n",
    "    label, path_sum = basin.find_basins(h, sn, maxima)\n",
    "    print(\"The b.o.a. of each point:\")\n",
    "    print(label)\n",
    "\n",
    "    # print(\"The sum of all paths for each b.o.a.:\")\n",
    "    # print(path_sum)\n",
    "\n",
    "    print()"
   ]
  },
  {
   "cell_type": "code",
   "execution_count": 26,
   "metadata": {},
   "outputs": [
    {
     "name": "stdout",
     "output_type": "stream",
     "text": [
      "The coordinates of the local maxima:Progress of finding local max: 1 / 7\n",
      "Progress of finding local max: 7 / 7\n",
      "Current iteration of expanding local max: 1\n",
      "Current iteration of expanding local max: 2\n",
      "Current iteration of expanding local max: 3\n",
      "Current iteration of expanding local max: 4\n",
      "Now doing BFS to connect flat local maxima... \n",
      "\n",
      "[[0 4]\n",
      " [6 4]]\n",
      "The steepest neighbour of each point:\n",
      "↓ ↘ ↘ → @ ← ← ↙ ↓ \n",
      "↓ ↓ ↘ ↗ ↑ ↖ ↙ ↓ ↓ \n",
      "↘ ↓ ↓ ↗ ↑ ↖ ↓ ↓ ↙ \n",
      "→ → ↘ ↓ ↓ ↓ ↖ ← ← \n",
      "↗ ↑ → ↘ ↓ ↙ ↑ ↑ ↖ \n",
      "↗ ↑ ↗ ↘ ↓ ↙ ↖ ↗ ↑ \n",
      "↗ ↗ → → @ ← ↖ ↖ ↑ \n",
      "The b.o.a. of each point:\n",
      "[[1 0 0 0 0 0 0 0 0]\n",
      " [1 1 0 0 0 0 0 0 0]\n",
      " [1 1 1 0 0 0 0 0 0]\n",
      " [1 1 1 1 1 1 0 0 0]\n",
      " [1 1 1 1 1 1 0 0 0]\n",
      " [1 1 1 1 1 1 1 0 0]\n",
      " [1 1 1 1 1 1 1 1 0]]\n",
      "\n",
      "Progress of labelling b.o.a.: 1 / 7\n",
      "Progress of labelling b.o.a.: 7 / 7\n"
     ]
    }
   ],
   "source": [
    "\n",
    "a = np.array([\n",
    "    [2, 2, 2, 2, 4, 2, 2, 2, 2],\n",
    "    [2, 2, 2, 2, 3, 2, 2, 2, 2],\n",
    "    [2, 2, 2, 3, 3, 3, 2, 2, 2],\n",
    "    [2, 3, 3, 3, 3, 3, 3, 3, 2],\n",
    "    [2, 2, 2, 3, 3, 3, 2, 2, 2],\n",
    "    [2, 2, 2, 2, 3, 2, 2, 2, 2],\n",
    "    [2, 2, 2, 2, 4, 2, 2, 2, 2],\n",
    "])\n",
    "\n",
    "run_algorithm(a)\n",
    "\n"
   ]
  },
  {
   "cell_type": "code",
   "execution_count": 27,
   "metadata": {},
   "outputs": [
    {
     "name": "stdout",
     "output_type": "stream",
     "text": [
      "The coordinates of the local maxima:\n",
      "[[4 0]\n",
      " [0 0]\n",
      " [0 5]\n",
      " [4 5]]\n",
      "The steepest neighbour of each point:\n",
      "@ ← ← ↘ → @ \n",
      "↑ ↖ ↖ → ↗ ↑ \n",
      "↓ ↓ ↙ ↘ ↓ ↓ \n",
      "↓ ↙ ← ↘ ↘ ↓ \n",
      "@ ← ↖ → → @ \n",
      "The b.o.a. of each point:\n",
      "[[1 1 1 2 2 2]\n",
      " [1 1 1 2 2 2]\n",
      " [0 0 0 3 3 3]\n",
      " [0 0 0 3 3 3]\n",
      " [0 0 0 3 3 3]]\n",
      "\n",
      "Progress of finding local max: 1 / 5\n",
      "Progress of finding local max: 5 / 5\n",
      "Current iteration of expanding local max: 1\n",
      "Current iteration of expanding local max: 2\n",
      "Now doing BFS to connect flat local maxima... \n",
      "Progress of labelling b.o.a.: 1 / 5\n",
      "Progress of labelling b.o.a.: 5 / 5\n"
     ]
    }
   ],
   "source": [
    "run_algorithm(np.array([\n",
    "    [4, 2, 2, 2, 2, 4],\n",
    "    [2, 2, 2, 2, 2, 2],\n",
    "    [2, 2, 2, 2, 2, 2],\n",
    "    [2, 2, 2, 2, 2, 2],\n",
    "    [10, 2, 2, 2, 2, 4],\n",
    "]))\n"
   ]
  },
  {
   "cell_type": "code",
   "execution_count": 28,
   "metadata": {},
   "outputs": [
    {
     "name": "stdout",
     "output_type": "stream",
     "text": [
      "The coordinates of the local maxima:\n",
      "[[4 0]\n",
      " [0 0]\n",
      " [0 5]\n",
      " [4 5]\n",
      " [2 3]]\n",
      "The steepest neighbour of each point:\n",
      "@ ← ← ↘ → @ \n",
      "↑ ↖ ↘ ↓ ↗ ↑ \n",
      "↓ ↓ → @ ← ← \n",
      "↓ ↙ ↗ ↑ ↘ ↓ \n",
      "@ ← ↖ → → @ \n",
      "The b.o.a. of each point:\n",
      "[[1 1 1 2 2 2]\n",
      " [1 1 4 4 2 2]\n",
      " [0 0 4 4 4 4]\n",
      " [0 0 4 4 3 3]\n",
      " [0 0 0 3 3 3]]\n",
      "\n",
      "Progress of finding local max: 1 / 5\n",
      "Progress of finding local max: 5 / 5\n",
      "Current iteration of expanding local max: 1\n",
      "Current iteration of expanding local max: 2\n",
      "Now doing BFS to connect flat local maxima... \n",
      "Progress of labelling b.o.a.: 1 / 5\n",
      "Progress of labelling b.o.a.: 5 / 5\n"
     ]
    }
   ],
   "source": [
    "\n",
    "run_algorithm(np.array([\n",
    "    [4, 2, 2, 2, 2, 4],\n",
    "    [2, 2, 2, 2, 2, 2],\n",
    "    [2, 2, 2, 3, 3, 3],\n",
    "    [2, 2, 2, 2, 2, 2],\n",
    "    [5, 2, 2, 2, 2, 4],\n",
    "]))\n",
    "\n"
   ]
  },
  {
   "cell_type": "code",
   "execution_count": 29,
   "metadata": {},
   "outputs": [
    {
     "name": "stdout",
     "output_type": "stream",
     "text": [
      "The coordinates of the local maxima:\n",
      "[[2 0]\n",
      " [0 0]\n",
      " [0 5]\n",
      " [3 4]]\n",
      "The steepest neighbour of each point:\n",
      "@ ← ↙ ↘ → @ \n",
      "↓ ↙ ↘ ↓ ↗ ↑ \n",
      "@ ← → ↘ ↓ ↙ \n",
      "↑ ↖ → → @ ← \n",
      "↗ → → → ↑ ← \n",
      "The b.o.a. of each point:\n",
      "[[1 1 0 2 2 2]\n",
      " [0 0 3 3 2 2]\n",
      " [0 0 3 3 3 3]\n",
      " [0 0 3 3 3 3]\n",
      " [0 3 3 3 3 3]]\n",
      "\n",
      "Progress of finding local max: 1 / 5\n",
      "Progress of finding local max: 5 / 5\n",
      "Current iteration of expanding local max: 1\n",
      "Current iteration of expanding local max: 2\n",
      "Now doing BFS to connect flat local maxima... \n",
      "Progress of labelling b.o.a.: 1 / 5\n",
      "Progress of labelling b.o.a.: 5 / 5\n"
     ]
    }
   ],
   "source": [
    "run_algorithm(np.array([\n",
    "    [4, 2, 2, 2, 2, 4],\n",
    "    [1, 2, 2, 2, 2, 2],\n",
    "    [5, 2, 2, 3, 3, 3],\n",
    "    [1, 1, 2, 3, 4, 3],\n",
    "    [1, 1, 2, 3, 4, 3],\n",
    "]))\n"
   ]
  },
  {
   "cell_type": "code",
   "execution_count": 30,
   "metadata": {},
   "outputs": [
    {
     "name": "stdout",
     "output_type": "stream",
     "text": [
      "The coordinates of the local maxima:\n",
      "[[0 0]\n",
      " [5 0]]\n",
      "The steepest neighbour of each point:\n",
      "@ ← ↓ ↓ ↓ ↙ \n",
      "↑ ↖ ← ← ← ← \n",
      "→ ↑ ↖ ↖ ↖ ← \n",
      "→ ↓ ↙ ← ← ← \n",
      "↓ ↙ ← ↖ ↖ ← \n",
      "@ ← ↑ ↑ ↑ ↖ \n",
      "The b.o.a. of each point:\n",
      "[[0 0 0 0 0 0]\n",
      " [0 0 0 0 0 0]\n",
      " [0 0 0 0 0 0]\n",
      " [1 1 1 1 1 1]\n",
      " [1 1 1 1 1 1]\n",
      " [1 1 1 1 1 1]]\n",
      "\n",
      "Progress of finding local max: 1 / 6\n",
      "Progress of finding local max: 6 / 6\n",
      "Current iteration of expanding local max: 1\n",
      "Current iteration of expanding local max: 2\n",
      "Current iteration of expanding local max: 3\n",
      "Current iteration of expanding local max: 4\n",
      "Now doing BFS to connect flat local maxima... \n",
      "Progress of labelling b.o.a.: 1 / 6\n",
      "Progress of labelling b.o.a.: 6 / 6\n"
     ]
    }
   ],
   "source": [
    "run_algorithm(np.array([\n",
    "    [4, 1, 1, 1, 1, 1,],\n",
    "    [1, 2, 2, 2, 2, 1,],\n",
    "    [1, 2, 2, 2, 2, 1,],\n",
    "    [1, 2, 2, 2, 2, 1,],\n",
    "    [1, 2, 2, 2, 2, 1,],\n",
    "    [4, 1, 1, 1, 1, 1,],\n",
    "]))\n"
   ]
  },
  {
   "cell_type": "code",
   "execution_count": 31,
   "metadata": {},
   "outputs": [
    {
     "name": "stdout",
     "output_type": "stream",
     "text": [
      "The coordinates of the local maxima:\n",
      "[[0 0]]\n",
      "The steepest neighbour of each point:\n",
      "@ ← ← \n",
      "↑ ↓ ↓ \n",
      "↑ ↖ ← \n",
      "The b.o.a. of each point:\n",
      "[[0 0 0]\n",
      " [0 0 0]\n",
      " [0 0 0]]\n",
      "\n",
      "Progress of finding local max: 1 / 3\n",
      "Progress of finding local max: 3 / 3\n",
      "Current iteration of expanding local max: 1\n",
      "Now doing BFS to connect flat local maxima... \n",
      "Progress of labelling b.o.a.: 1 / 3\n",
      "Progress of labelling b.o.a.: 3 / 3\n"
     ]
    }
   ],
   "source": [
    "# this one broke the previous algorithm\n",
    "run_algorithm(np.array([\n",
    "    [3, 3, 3,],\n",
    "    [3, 2, 2,],\n",
    "    [3, 3, 3,],\n",
    "]))\n"
   ]
  },
  {
   "cell_type": "code",
   "execution_count": 32,
   "metadata": {},
   "outputs": [
    {
     "name": "stdout",
     "output_type": "stream",
     "text": [
      "The coordinates of the local maxima:\n",
      "[[0 0]]\n",
      "The steepest neighbour of each point:\n",
      "@ ← ← ← ← ← \n",
      "↑ ↑ ↑ ↑ → ↖ \n",
      "↑ ↑ ↑ → → ↑ \n",
      "↓ ↓ ↓ ↓ → ↑ \n",
      "↓ ↓ ↓ ↓ ↓ ↑ \n",
      "→ → → → ↗ ↑ \n",
      "The b.o.a. of each point:\n",
      "[[0 0 0 0 0 0]\n",
      " [0 0 0 0 0 0]\n",
      " [0 0 0 0 0 0]\n",
      " [0 0 0 0 0 0]\n",
      " [0 0 0 0 0 0]\n",
      " [0 0 0 0 0 0]]\n",
      "\n",
      "Progress of finding local max: 1 / 6\n",
      "Progress of finding local max: 6 / 6\n",
      "Current iteration of expanding local max: 1\n",
      "Current iteration of expanding local max: 2\n",
      "Now doing BFS to connect flat local maxima... \n",
      "Progress of labelling b.o.a.: 1 / 6\n",
      "Progress of labelling b.o.a.: 6 / 6\n"
     ]
    }
   ],
   "source": [
    "run_algorithm(np.array([\n",
    "    [3, 3, 3, 3, 3, 3,],\n",
    "    [2, 2, 2, 2, 2, 3,],\n",
    "    [2, 2, 2, 2, 2, 3,],\n",
    "    [2, 2, 2, 2, 2, 3,],\n",
    "    [2, 2, 2, 2, 2, 3,],\n",
    "    [3, 3, 3, 3, 3, 3,],\n",
    "]))"
   ]
  },
  {
   "cell_type": "code",
   "execution_count": 33,
   "metadata": {},
   "outputs": [
    {
     "name": "stdout",
     "output_type": "stream",
     "text": [
      "The coordinates of the local maxima:\n",
      "[[1 6]]\n",
      "The steepest neighbour of each point:\n",
      "↘ ↓ ↘ ↓ ↙ ↘ ↓ \n",
      "→ ↘ → ↘ ↓ → @ \n",
      "→ → ↗ → → ↗ ↑ \n",
      "The b.o.a. of each point:\n",
      "[[0 0 0 0 0 0 0]\n",
      " [0 0 0 0 0 0 0]\n",
      " [0 0 0 0 0 0 0]]\n",
      "\n",
      "Progress of finding local max: 1 / 3\n",
      "Progress of finding local max: 3 / 3\n",
      "Current iteration of expanding local max: 1\n",
      "Current iteration of expanding local max: 2\n",
      "Current iteration of expanding local max: 3\n",
      "Now doing BFS to connect flat local maxima... \n",
      "Progress of labelling b.o.a.: 1 / 3\n",
      "Progress of labelling b.o.a.: 3 / 3\n"
     ]
    }
   ],
   "source": [
    "run_algorithm(np.array([\n",
    "    [0, 0, 0, 0, 0, 0, 0],\n",
    "    [0, 2, 0, 3, 0, 0, 8],\n",
    "    [0, 2, 2, 2, 3, 3, 3],\n",
    "]))"
   ]
  },
  {
   "cell_type": "code",
   "execution_count": 34,
   "metadata": {},
   "outputs": [
    {
     "name": "stdout",
     "output_type": "stream",
     "text": [
      "The coordinates of the local maxima:\n",
      "[[1 6]\n",
      " [1 3]]\n",
      "The steepest neighbour of each point:\n",
      "↘ ↓ ↘ ↓ ↙ ↘ ↓ \n",
      "→ ↘ → @ ← → @ \n",
      "→ → ↗ ↑ → ↗ ↑ \n",
      "The b.o.a. of each point:\n",
      "[[1 1 1 1 1 0 0]\n",
      " [1 1 1 1 1 0 0]\n",
      " [1 1 1 1 0 0 0]]\n",
      "\n",
      "Progress of finding local max: 1 / 3\n",
      "Progress of finding local max: 3 / 3\n",
      "Current iteration of expanding local max: 1\n",
      "Current iteration of expanding local max: 2\n",
      "Now doing BFS to connect flat local maxima... \n",
      "Progress of labelling b.o.a.: 1 / 3\n",
      "Progress of labelling b.o.a.: 3 / 3\n"
     ]
    }
   ],
   "source": [
    "run_algorithm(np.array([\n",
    "    [0, 0, 0, 0, 0, 0, 0],\n",
    "    [0, 2, 0, 3, 0, 0, 8],\n",
    "    [0, 2, 2, 2, 2, 3, 3],\n",
    "]))"
   ]
  }
 ],
 "metadata": {
  "kernelspec": {
   "display_name": "venv",
   "language": "python",
   "name": "python3"
  },
  "language_info": {
   "codemirror_mode": {
    "name": "ipython",
    "version": 3
   },
   "file_extension": ".py",
   "mimetype": "text/x-python",
   "name": "python",
   "nbconvert_exporter": "python",
   "pygments_lexer": "ipython3",
   "version": "3.10.12"
  }
 },
 "nbformat": 4,
 "nbformat_minor": 2
}
