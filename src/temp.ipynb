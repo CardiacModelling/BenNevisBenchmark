{
 "cells": [
  {
   "cell_type": "code",
   "execution_count": 42,
   "metadata": {},
   "outputs": [
    {
     "name": "stdout",
     "output_type": "stream",
     "text": [
      "['a', 'b', 'c'] [[1, 2, 30], [3, 4, 5, 100], [6, 7]] [3, 4, 2]\n"
     ]
    }
   ],
   "source": [
    "d = {\n",
    "    'a': [1, 2,30],\n",
    "    'b': [3, 4, 5, 100],\n",
    "    'c': [6, 7],\n",
    "}\n",
    "\n",
    "k = list(d.keys())\n",
    "v = list(d.values())\n",
    "v_len = [len(x) for x in v]\n",
    "\n",
    "print(k, v, v_len)\n",
    "\n",
    "import numpy as np\n",
    "v_n = np.prod(v_len)"
   ]
  },
  {
   "cell_type": "code",
   "execution_count": 43,
   "metadata": {},
   "outputs": [],
   "source": [
    "def index_to_tuple(index, v_len):\n",
    "    result = []\n",
    "    for l in list(v_len)[::-1]:\n",
    "        result.append(index % l)\n",
    "        index //= l\n",
    "    return tuple(result[::-1])\n",
    "\n",
    "def tuple_to_index(t, v_len):\n",
    "    result = 0\n",
    "    for i, l in enumerate(v_len):\n",
    "        result *= l\n",
    "        result += t[i]\n",
    "    return result\n",
    "\n",
    "def index_to_params(t, v_len, d):\n",
    "    tuple = index_to_tuple(t, v_len)\n",
    "    return {k: d[k][i] for k, i in zip(d.keys(), tuple)}"
   ]
  },
  {
   "cell_type": "code",
   "execution_count": 48,
   "metadata": {},
   "outputs": [],
   "source": [
    "def params_to_index(params, v_len, d):\n",
    "    result = []\n",
    "\n",
    "    for k in d.keys():\n",
    "        assert k in params.keys(), f'Key {k} not in params'\n",
    "\n",
    "        vs = np.array(d[k])\n",
    "        v = params[k]\n",
    "        i = np.argmin(np.abs(vs - v))\n",
    "        result.append(i)\n",
    "\n",
    "    t = tuple(result)\n",
    "    return tuple_to_index(t, v_len)"
   ]
  },
  {
   "cell_type": "code",
   "execution_count": 56,
   "metadata": {},
   "outputs": [
    {
     "data": {
      "text/plain": [
       "22"
      ]
     },
     "execution_count": 56,
     "metadata": {},
     "output_type": "execute_result"
    }
   ],
   "source": [
    "params_to_index({'a': 66, 'b': 80, 'c': 6}, v_len, d)"
   ]
  },
  {
   "cell_type": "code",
   "execution_count": 49,
   "metadata": {},
   "outputs": [
    {
     "name": "stdout",
     "output_type": "stream",
     "text": [
      "0 {'a': 1, 'b': 3, 'c': 6}\n",
      "1 {'a': 1, 'b': 3, 'c': 7}\n",
      "2 {'a': 1, 'b': 4, 'c': 6}\n",
      "3 {'a': 1, 'b': 4, 'c': 7}\n",
      "4 {'a': 1, 'b': 5, 'c': 6}\n",
      "5 {'a': 1, 'b': 5, 'c': 7}\n",
      "6 {'a': 1, 'b': 100, 'c': 6}\n",
      "7 {'a': 1, 'b': 100, 'c': 7}\n",
      "8 {'a': 2, 'b': 3, 'c': 6}\n",
      "9 {'a': 2, 'b': 3, 'c': 7}\n",
      "10 {'a': 2, 'b': 4, 'c': 6}\n",
      "11 {'a': 2, 'b': 4, 'c': 7}\n",
      "12 {'a': 2, 'b': 5, 'c': 6}\n",
      "13 {'a': 2, 'b': 5, 'c': 7}\n",
      "14 {'a': 2, 'b': 100, 'c': 6}\n",
      "15 {'a': 2, 'b': 100, 'c': 7}\n",
      "16 {'a': 30, 'b': 3, 'c': 6}\n",
      "17 {'a': 30, 'b': 3, 'c': 7}\n",
      "18 {'a': 30, 'b': 4, 'c': 6}\n",
      "19 {'a': 30, 'b': 4, 'c': 7}\n",
      "20 {'a': 30, 'b': 5, 'c': 6}\n",
      "21 {'a': 30, 'b': 5, 'c': 7}\n",
      "22 {'a': 30, 'b': 100, 'c': 6}\n",
      "23 {'a': 30, 'b': 100, 'c': 7}\n"
     ]
    }
   ],
   "source": [
    "for i in range(v_n):\n",
    "    print(i, index_to_params(i, v_len, d))"
   ]
  },
  {
   "cell_type": "code",
   "execution_count": null,
   "metadata": {},
   "outputs": [],
   "source": []
  },
  {
   "cell_type": "code",
   "execution_count": 40,
   "metadata": {},
   "outputs": [],
   "source": [
    "v_len = [1, 2, 5, 3, 2, 1, 4, 600]\n",
    "v_n = np.prod(v_len)\n",
    "for i in range(v_n):\n",
    "    assert i == tuple_to_index(index_to_tuple(i, v_len), v_len)"
   ]
  }
 ],
 "metadata": {
  "kernelspec": {
   "display_name": "venv",
   "language": "python",
   "name": "python3"
  },
  "language_info": {
   "codemirror_mode": {
    "name": "ipython",
    "version": 3
   },
   "file_extension": ".py",
   "mimetype": "text/x-python",
   "name": "python",
   "nbconvert_exporter": "python",
   "pygments_lexer": "ipython3",
   "version": "3.11.4"
  },
  "orig_nbformat": 4
 },
 "nbformat": 4,
 "nbformat_minor": 2
}
